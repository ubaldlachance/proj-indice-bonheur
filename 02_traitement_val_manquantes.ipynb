{
 "cells": [
  {
   "cell_type": "markdown",
   "id": "29f1952b-e2da-42f3-b5a7-7cd523b6ae43",
   "metadata": {},
   "source": [
    "# Traitement des valeurs manquantes"
   ]
  },
  {
   "cell_type": "markdown",
   "id": "f8643a28-37aa-48bc-a2fc-a28d2193529f",
   "metadata": {},
   "source": [
    "Ce notebook sert à compléter les valeurs manquantes au niveau des variables de faits."
   ]
  },
  {
   "cell_type": "code",
   "execution_count": 19,
   "id": "909c5a0b-7857-4fa6-ab49-5a3e0c7b2e7b",
   "metadata": {},
   "outputs": [],
   "source": [
    "import pandas as pd"
   ]
  },
  {
   "cell_type": "code",
   "execution_count": 20,
   "id": "6f13fa63-14c5-4160-90d8-4e099f930e7a",
   "metadata": {},
   "outputs": [],
   "source": [
    "df_global = pd.read_csv(\"data/merged/global.csv\", sep=\";\") "
   ]
  },
  {
   "cell_type": "markdown",
   "id": "85180adc-f29f-421b-8dea-abbc07117d0e",
   "metadata": {},
   "source": [
    "Dans un premier temps, nous allons recherchers les pays ayants des valeurs manquantes pour toutes les années pour un indicateur données. Ce sont les cas pour lesquelles, nous n'avons aucune information pour la combinaison d'un pays/indicateur pour toutes les années de données dont nous disposons (2015-2023)."
   ]
  },
  {
   "cell_type": "code",
   "execution_count": 21,
   "id": "15c37170-e78a-45d2-85d7-c5f8e6c15211",
   "metadata": {},
   "outputs": [],
   "source": [
    "def pays_var_manquante(df: pd.DataFrame) -> None:\n",
    "    for pays in df_global.Country.unique():\n",
    "        nativity_missing = pd.isnull(df_global.loc[df_global.Country==pays].nativity).all()\n",
    "    \n",
    "        migration_missing = pd.isnull(df_global.loc[df_global.Country==pays].migration).all()\n",
    "    \n",
    "        health_expend_missing = pd.isnull(df_global.loc[df_global.Country==pays].health_expend).all()\n",
    "    \n",
    "        educ_expend_missing = pd.isnull(df_global.loc[df_global.Country==pays].educ_expend).all()\n",
    "    \n",
    "        gdp_missing = pd.isnull(df_global.loc[df_global.Country==pays].gdp).all()\n",
    "    \n",
    "        taxes_missing = pd.isnull(df_global.loc[df_global.Country==pays].taxes).all()\n",
    "    \n",
    "        budget_missing = pd.isnull(df_global.loc[df_global.Country==pays].budget).all()\n",
    "    \n",
    "        milit_missing = pd.isnull(df_global.loc[df_global.Country==pays].milit).all()\n",
    "    \n",
    "        if nativity_missing & migration_missing & health_expend_missing & educ_expend_missing & gdp_missing & taxes_missing & budget_missing & milit_missing:\n",
    "            print(f\"*** Tout les indicateur sont manquant pour: {pays}\")\n",
    "        else:\n",
    "            if nativity_missing:\n",
    "                print(f\"Nativity manquant pour: {pays}\")\n",
    "            if migration_missing:\n",
    "                print(f\"Migration manquant pour: {pays}\")\n",
    "            if health_expend_missing:\n",
    "                print(f\"Health expend manquant pour: {pays}\")\n",
    "            if educ_expend_missing:\n",
    "                print(f\"Educ expend manquant pour: {pays}\")\n",
    "            if gdp_missing:\n",
    "                print(f\"GDP manquant pour: {pays}\")\n",
    "            if taxes_missing:\n",
    "                print(f\"Taxes manquant pour: {pays}\")\n",
    "            if budget_missing:\n",
    "                print(f\"Budget manquant pour: {pays}\")\n",
    "            if milit_missing:\n",
    "                print(f\"Milit expend manquant pour: {pays}\")"
   ]
  },
  {
   "cell_type": "code",
   "execution_count": 22,
   "id": "fb4b2118-edd5-4362-a419-947d295c5305",
   "metadata": {},
   "outputs": [
    {
     "name": "stdout",
     "output_type": "stream",
     "text": [
      "Milit expend manquant pour: Qatar\n",
      "Health expend manquant pour: Taiwan\n",
      "Educ expend manquant pour: Taiwan\n",
      "Educ expend manquant pour: Suriname\n",
      "Milit expend manquant pour: Suriname\n",
      "Educ expend manquant pour: Trinidad and Tobago\n",
      "Educ expend manquant pour: Libya\n",
      "Milit expend manquant pour: Libya\n",
      "*** Tout les indicateur sont manquant pour: North Cyprus\n",
      "Health expend manquant pour: Kosovo\n",
      "Educ expend manquant pour: Kosovo\n",
      "Health expend manquant pour: Hong Kong\n",
      "Milit expend manquant pour: Hong Kong\n",
      "Milit expend manquant pour: Bhutan\n",
      "Educ expend manquant pour: Montenegro\n",
      "*** Tout les indicateur sont manquant pour: Somaliland region\n",
      "Educ expend manquant pour: North Macedonia\n",
      "Educ expend manquant pour: Bosnia and Herzegovina\n",
      "*** Tout les indicateur sont manquant pour: Palestinian Territories\n",
      "Milit expend manquant pour: Haiti\n",
      "Milit expend manquant pour: Djibouti\n",
      "Milit expend manquant pour: Comoros\n",
      "Milit expend manquant pour: Syria\n",
      "Health expend manquant pour: Puerto Rico\n",
      "Milit expend manquant pour: Puerto Rico\n",
      "Health expend manquant pour: Somalia\n",
      "Educ expend manquant pour: Somalia\n",
      "*** Tout les indicateur sont manquant pour: Somaliland Region\n",
      "*** Tout les indicateur sont manquant pour: Hong Kong S.A.R., China\n",
      "*** Tout les indicateur sont manquant pour: Northern Cyprus\n",
      "*** Tout les indicateur sont manquant pour: Hong Kong S.A.R. of China\n",
      "Milit expend manquant pour: Maldives\n",
      "*** Tout les indicateur sont manquant pour: State of Palestine\n"
     ]
    }
   ],
   "source": [
    "pays_var_manquante(df_global)"
   ]
  },
  {
   "cell_type": "markdown",
   "id": "b2b4cd33-6189-4b25-9cc2-429d78e040ae",
   "metadata": {},
   "source": [
    "Dans un premier temps nous allons supprimer les pays pour lesquelles nous n'avons pas du tout d'indicateur. "
   ]
  },
  {
   "cell_type": "code",
   "execution_count": 23,
   "id": "efda30d3-6a24-4a1c-be1a-447870fd8543",
   "metadata": {},
   "outputs": [],
   "source": [
    "df_global = df_global[df_global.Country!=\"North Cyprus\"]\n",
    "df_global = df_global[df_global.Country!=\"Somaliland region\"]\n",
    "df_global = df_global[df_global.Country!=\"Palestinian Territories\"]\n",
    "df_global = df_global[df_global.Country!=\"Somaliland Region\"]\n",
    "df_global = df_global[df_global.Country!=\"Hong Kong S.A.R., China\"]\n",
    "df_global = df_global[df_global.Country!=\"Northern Cyprus\"]\n",
    "df_global = df_global[df_global.Country!=\"Hong Kong S.A.R. of China\"]\n",
    "df_global = df_global[df_global.Country!=\"State of Palestine\"]"
   ]
  },
  {
   "cell_type": "markdown",
   "id": "64993605-5788-44ec-a46b-c57e272a7283",
   "metadata": {},
   "source": [
    "Suppression d'Hong Kong et Porto Rico puisque ce ne sont pas des pays."
   ]
  },
  {
   "cell_type": "code",
   "execution_count": 24,
   "id": "bbd7f554-a3e4-4ac8-bfbb-48ea848f89b4",
   "metadata": {},
   "outputs": [],
   "source": [
    "df_global = df_global[df_global.Country!=\"Hong Kong\"]\n",
    "df_global = df_global[df_global.Country!=\"Puerto Rico\"]"
   ]
  },
  {
   "cell_type": "markdown",
   "id": "be132ae9-4f70-44b4-a43b-d9e22f2f2a8a",
   "metadata": {},
   "source": [
    "Maintenant nous allons assigner la moyenne annuelle pour les variables manquante.  \n",
    "Ainsi nous pourrons garder ces pays tout en minimisant l'impact d'assigner à l'indicateur une valeur artificielle."
   ]
  },
  {
   "cell_type": "code",
   "execution_count": 25,
   "id": "daac3ce6-19ff-46d1-974d-3328f6e44b71",
   "metadata": {},
   "outputs": [],
   "source": [
    "# Méthode pour assigner la moyenne annuelle de la variable donnée pour le pays passé en paramètre\n",
    "def assigner_moyenne_annuelle(df: pd.DataFrame, pays: str, varname: str) -> pd.DataFrame:\n",
    "    for annee in range(2015, 2024):\n",
    "        df.loc[(df.annee==annee) & (df.Country==pays), varname] = df.loc[df.annee==annee, varname].mean()\n",
    "    return df"
   ]
  },
  {
   "cell_type": "code",
   "execution_count": 26,
   "id": "78954b4e-5eba-46bf-91da-a9286763e30c",
   "metadata": {},
   "outputs": [],
   "source": [
    "df_global = assigner_moyenne_annuelle(df_global, \"Qatar\", \"milit\")\n",
    "df_global = assigner_moyenne_annuelle(df_global, \"Taiwan\", \"health_expend\")\n",
    "df_global = assigner_moyenne_annuelle(df_global, \"Taiwan\", \"educ_expend\")\n",
    "df_global = assigner_moyenne_annuelle(df_global, \"Suriname\", \"educ_expend\")\n",
    "df_global = assigner_moyenne_annuelle(df_global, \"Suriname\", \"milit\")\n",
    "df_global = assigner_moyenne_annuelle(df_global, \"Trinidad and Tobago\", \"educ_expend\")\n",
    "df_global = assigner_moyenne_annuelle(df_global, \"Libya\", \"educ_expend\")\n",
    "df_global = assigner_moyenne_annuelle(df_global, \"Libya\", \"milit\")\n",
    "df_global = assigner_moyenne_annuelle(df_global, \"Kosovo\", \"health_expend\")\n",
    "df_global = assigner_moyenne_annuelle(df_global, \"Kosovo\", \"educ_expend\")\n",
    "df_global = assigner_moyenne_annuelle(df_global, \"Bhutan\", \"milit\")\n",
    "df_global = assigner_moyenne_annuelle(df_global, \"Montenegro\", \"educ_expend\")\n",
    "df_global = assigner_moyenne_annuelle(df_global, \"North Macedonia\", \"educ_expend\")\n",
    "df_global = assigner_moyenne_annuelle(df_global, \"Bosnia and Herzegovina\", \"educ_expend\")\n",
    "df_global = assigner_moyenne_annuelle(df_global, \"Haiti\", \"milit\")\n",
    "df_global = assigner_moyenne_annuelle(df_global, \"Djibouti\", \"milit\")\n",
    "df_global = assigner_moyenne_annuelle(df_global, \"Comoros\", \"milit\")\n",
    "df_global = assigner_moyenne_annuelle(df_global, \"Syria\", \"milit\")\n",
    "df_global = assigner_moyenne_annuelle(df_global, \"Somalia\", \"health_expend\")\n",
    "df_global = assigner_moyenne_annuelle(df_global, \"Somalia\", \"educ_expend\")\n",
    "df_global = assigner_moyenne_annuelle(df_global, \"Maldives\", \"milit\")"
   ]
  },
  {
   "cell_type": "markdown",
   "id": "9306366a-680e-4733-8594-fa37ea7d1064",
   "metadata": {},
   "source": [
    "Vérification s'il reste des pays/variables ayant uniquement des valeurs manquantes.  \n",
    "Il ne devrait plus n'y en avoir"
   ]
  },
  {
   "cell_type": "code",
   "execution_count": 27,
   "id": "52a7588c-cc04-4aa8-a1e6-7beca4b2397f",
   "metadata": {},
   "outputs": [],
   "source": [
    "pays_var_manquante(df_global)"
   ]
  },
  {
   "cell_type": "markdown",
   "id": "e2e2953e-f4e2-4925-9a5c-f420332c6708",
   "metadata": {},
   "source": [
    "Ensuite, il faut remplacer les valeurs manquantes restantes par la valeur de l'année antérieure la plus raproché s'il y en a une de disponible pour le pays."
   ]
  },
  {
   "cell_type": "code",
   "execution_count": 28,
   "id": "f8c595f1-985b-4050-a64f-a59ca6771e83",
   "metadata": {},
   "outputs": [],
   "source": [
    "# Méthode servant à renseigner les valeurs manquantes avec la valeur de l'année antérieur la plus raprocher.\n",
    "#  La méthode affiche la trace des cas pour lesquelles aucune valeur antérieure n'est disponible.\n",
    "def renseigner_manquante_ante(df: pd.DataFrame) -> pd.DataFrame:\n",
    "    nullable_cols = ['nativity', 'migration', 'health_expend', 'educ_expend', 'gdp', 'taxes', 'budget', 'milit']\n",
    "    for i, row in df[df.isna().any(axis=1)].iterrows():\n",
    "        for colname in nullable_cols:\n",
    "            if pd.isnull(row[colname]):\n",
    "                t_annee = row.annee - 1\n",
    "                while 2015 <= t_annee:\n",
    "                    try:\n",
    "                        val_precedente = df.loc[(df.annee == t_annee) & (df.Country == row.Country)][colname].values[0]\n",
    "                    except IndexError:\n",
    "                        # Pas de données pour l'indice de bonheur de ce pays cet année, on passe à l'année de la prochaine itération\n",
    "                        val_precedente = None\n",
    "                    \n",
    "                    if pd.notnull(val_precedente):\n",
    "                        df.loc[i, colname] = val_precedente\n",
    "                        break\n",
    "                    t_annee -= 1\n",
    "                if t_annee < 2015:\n",
    "                    print(f\"Aucune valeur de remplacement pour {row.Country}, {colname} en {row.annee}.\")\n",
    "    return df"
   ]
  },
  {
   "cell_type": "code",
   "execution_count": 29,
   "id": "7cb22634-3ad5-4698-ba8b-242b4bcc31d2",
   "metadata": {},
   "outputs": [
    {
     "name": "stdout",
     "output_type": "stream",
     "text": [
      "Aucune valeur de remplacement pour Costa Rica, milit en 2015.\n",
      "Aucune valeur de remplacement pour Luxembourg, educ_expend en 2015.\n",
      "Aucune valeur de remplacement pour United Arab Emirates, educ_expend en 2015.\n",
      "Aucune valeur de remplacement pour United Arab Emirates, milit en 2015.\n",
      "Aucune valeur de remplacement pour Panama, milit en 2015.\n",
      "Aucune valeur de remplacement pour Taiwan, milit en 2015.\n",
      "Aucune valeur de remplacement pour Suriname, health_expend en 2015.\n",
      "Aucune valeur de remplacement pour Trinidad and Tobago, milit en 2015.\n",
      "Aucune valeur de remplacement pour Uzbekistan, educ_expend en 2015.\n",
      "Aucune valeur de remplacement pour Uzbekistan, milit en 2015.\n",
      "Aucune valeur de remplacement pour Kosovo, nativity en 2015.\n",
      "Aucune valeur de remplacement pour Kosovo, migration en 2015.\n",
      "Aucune valeur de remplacement pour Kosovo, milit en 2015.\n",
      "Aucune valeur de remplacement pour Turkmenistan, milit en 2015.\n",
      "Aucune valeur de remplacement pour Kyrgyzstan, milit en 2015.\n",
      "Aucune valeur de remplacement pour Nigeria, educ_expend en 2015.\n",
      "Aucune valeur de remplacement pour Jordan, educ_expend en 2015.\n",
      "Aucune valeur de remplacement pour Montenegro, migration en 2015.\n",
      "Aucune valeur de remplacement pour China, educ_expend en 2015.\n",
      "Aucune valeur de remplacement pour Mozambique, milit en 2015.\n",
      "Aucune valeur de remplacement pour Laos, milit en 2015.\n",
      "Aucune valeur de remplacement pour Honduras, educ_expend en 2015.\n",
      "Aucune valeur de remplacement pour Tajikistan, milit en 2015.\n",
      "Aucune valeur de remplacement pour Iran, milit en 2015.\n",
      "Aucune valeur de remplacement pour Iraq, educ_expend en 2015.\n",
      "Aucune valeur de remplacement pour Zimbabwe, health_expend en 2015.\n",
      "Aucune valeur de remplacement pour Sudan, milit en 2015.\n",
      "Aucune valeur de remplacement pour Haiti, educ_expend en 2015.\n",
      "Aucune valeur de remplacement pour Nepal, milit en 2015.\n",
      "Aucune valeur de remplacement pour Mauritania, milit en 2015.\n",
      "Aucune valeur de remplacement pour Myanmar, milit en 2015.\n",
      "Aucune valeur de remplacement pour Congo (Brazzaville), milit en 2015.\n",
      "Aucune valeur de remplacement pour Senegal, milit en 2015.\n",
      "Aucune valeur de remplacement pour Gabon, educ_expend en 2015.\n",
      "Aucune valeur de remplacement pour Central African Republic, milit en 2015.\n",
      "Aucune valeur de remplacement pour Chad, milit en 2015.\n",
      "Aucune valeur de remplacement pour Guinea, milit en 2015.\n",
      "Aucune valeur de remplacement pour Afghanistan, educ_expend en 2015.\n",
      "Aucune valeur de remplacement pour Afghanistan, milit en 2015.\n",
      "Aucune valeur de remplacement pour Togo, milit en 2015.\n",
      "Aucune valeur de remplacement pour Costa Rica, milit en 2016.\n",
      "Aucune valeur de remplacement pour Luxembourg, educ_expend en 2016.\n",
      "Aucune valeur de remplacement pour Panama, milit en 2016.\n",
      "Aucune valeur de remplacement pour United Arab Emirates, educ_expend en 2016.\n",
      "Aucune valeur de remplacement pour United Arab Emirates, milit en 2016.\n",
      "Aucune valeur de remplacement pour Taiwan, milit en 2016.\n",
      "Aucune valeur de remplacement pour Trinidad and Tobago, milit en 2016.\n",
      "Aucune valeur de remplacement pour Uzbekistan, educ_expend en 2016.\n",
      "Aucune valeur de remplacement pour Uzbekistan, milit en 2016.\n",
      "Aucune valeur de remplacement pour Belize, milit en 2016.\n",
      "Aucune valeur de remplacement pour Turkmenistan, milit en 2016.\n",
      "Aucune valeur de remplacement pour Somalia, milit en 2016.\n",
      "Aucune valeur de remplacement pour Kosovo, nativity en 2016.\n",
      "Aucune valeur de remplacement pour Kosovo, migration en 2016.\n",
      "Aucune valeur de remplacement pour Kosovo, milit en 2016.\n",
      "Aucune valeur de remplacement pour Jordan, educ_expend en 2016.\n",
      "Aucune valeur de remplacement pour China, educ_expend en 2016.\n",
      "Aucune valeur de remplacement pour Montenegro, migration en 2016.\n",
      "Aucune valeur de remplacement pour Laos, milit en 2016.\n",
      "Aucune valeur de remplacement pour Nigeria, educ_expend en 2016.\n",
      "Aucune valeur de remplacement pour Iran, milit en 2016.\n",
      "Aucune valeur de remplacement pour Nepal, milit en 2016.\n",
      "Aucune valeur de remplacement pour Iraq, educ_expend en 2016.\n",
      "Aucune valeur de remplacement pour Myanmar, milit en 2016.\n",
      "Aucune valeur de remplacement pour Congo (Brazzaville), milit en 2016.\n",
      "Aucune valeur de remplacement pour Senegal, milit en 2016.\n",
      "Aucune valeur de remplacement pour Mauritania, milit en 2016.\n",
      "Aucune valeur de remplacement pour Sudan, milit en 2016.\n",
      "Aucune valeur de remplacement pour Gabon, educ_expend en 2016.\n",
      "Aucune valeur de remplacement pour Haiti, educ_expend en 2016.\n",
      "Aucune valeur de remplacement pour Chad, milit en 2016.\n",
      "Aucune valeur de remplacement pour Guinea, milit en 2016.\n",
      "Aucune valeur de remplacement pour Afghanistan, educ_expend en 2016.\n",
      "Aucune valeur de remplacement pour Togo, milit en 2016.\n",
      "Aucune valeur de remplacement pour Costa Rica, milit en 2017.\n",
      "Aucune valeur de remplacement pour United Arab Emirates, educ_expend en 2017.\n",
      "Aucune valeur de remplacement pour Panama, milit en 2017.\n",
      "Aucune valeur de remplacement pour Taiwan, milit en 2017.\n",
      "Aucune valeur de remplacement pour Uzbekistan, educ_expend en 2017.\n",
      "Aucune valeur de remplacement pour Uzbekistan, milit en 2017.\n",
      "Aucune valeur de remplacement pour Turkmenistan, milit en 2017.\n",
      "Aucune valeur de remplacement pour Jordan, educ_expend en 2017.\n",
      "Aucune valeur de remplacement pour Kosovo, nativity en 2017.\n",
      "Aucune valeur de remplacement pour Kosovo, migration en 2017.\n",
      "Aucune valeur de remplacement pour China, educ_expend en 2017.\n",
      "Aucune valeur de remplacement pour Montenegro, migration en 2017.\n",
      "Aucune valeur de remplacement pour Somalia, milit en 2017.\n",
      "Aucune valeur de remplacement pour Nigeria, educ_expend en 2017.\n",
      "Aucune valeur de remplacement pour Iraq, educ_expend en 2017.\n",
      "Aucune valeur de remplacement pour Sudan, milit en 2017.\n",
      "Aucune valeur de remplacement pour Haiti, educ_expend en 2017.\n",
      "Aucune valeur de remplacement pour Central African Republic, milit en 2017.\n",
      "Aucune valeur de remplacement pour Costa Rica, milit en 2018.\n",
      "Aucune valeur de remplacement pour United Arab Emirates, educ_expend en 2018.\n",
      "Aucune valeur de remplacement pour Taiwan, milit en 2018.\n",
      "Aucune valeur de remplacement pour Panama, milit en 2018.\n",
      "Aucune valeur de remplacement pour Uzbekistan, educ_expend en 2018.\n",
      "Aucune valeur de remplacement pour Uzbekistan, milit en 2018.\n",
      "Aucune valeur de remplacement pour Kosovo, nativity en 2018.\n",
      "Aucune valeur de remplacement pour Kosovo, migration en 2018.\n",
      "Aucune valeur de remplacement pour Turkmenistan, milit en 2018.\n",
      "Aucune valeur de remplacement pour Montenegro, migration en 2018.\n",
      "Aucune valeur de remplacement pour China, educ_expend en 2018.\n",
      "Aucune valeur de remplacement pour Nigeria, educ_expend en 2018.\n",
      "Aucune valeur de remplacement pour Iraq, educ_expend en 2018.\n",
      "Aucune valeur de remplacement pour Haiti, educ_expend en 2018.\n",
      "Aucune valeur de remplacement pour Central African Republic, milit en 2018.\n",
      "Aucune valeur de remplacement pour Costa Rica, milit en 2019.\n",
      "Aucune valeur de remplacement pour United Arab Emirates, educ_expend en 2019.\n",
      "Aucune valeur de remplacement pour Panama, milit en 2019.\n",
      "Aucune valeur de remplacement pour Kosovo, nativity en 2019.\n",
      "Aucune valeur de remplacement pour Nigeria, educ_expend en 2019.\n",
      "Aucune valeur de remplacement pour Turkmenistan, milit en 2019.\n",
      "Aucune valeur de remplacement pour China, educ_expend en 2019.\n",
      "Aucune valeur de remplacement pour Iraq, educ_expend en 2019.\n",
      "Aucune valeur de remplacement pour Costa Rica, milit en 2020.\n",
      "Aucune valeur de remplacement pour United Arab Emirates, educ_expend en 2020.\n",
      "Aucune valeur de remplacement pour Panama, milit en 2020.\n",
      "Aucune valeur de remplacement pour China, educ_expend en 2020.\n",
      "Aucune valeur de remplacement pour Turkmenistan, milit en 2020.\n",
      "Aucune valeur de remplacement pour Iraq, educ_expend en 2020.\n",
      "Aucune valeur de remplacement pour Nigeria, educ_expend en 2020.\n",
      "Aucune valeur de remplacement pour Iraq, educ_expend en 2021.\n",
      "Aucune valeur de remplacement pour Nigeria, educ_expend en 2021.\n"
     ]
    }
   ],
   "source": [
    "# Appel de la méthode\n",
    "df_global = renseigner_manquante_ante(df_global)"
   ]
  },
  {
   "cell_type": "markdown",
   "id": "50b936f7-2dac-44ae-b1b5-91d2c43fd3f8",
   "metadata": {},
   "source": [
    "Il y a encore des valeurs manquantes dans les cas où il n'y a pas de valeur antérieur disponible.  \n",
    "Nous allons donc renseigner ces cas par une valeur ultérieure."
   ]
  },
  {
   "cell_type": "code",
   "execution_count": 30,
   "id": "a33d1eeb-0031-41b8-88e4-f68fde3c12b7",
   "metadata": {},
   "outputs": [],
   "source": [
    "# Méthode servant à renseigner les valeurs manquantes avec la valeur de l'année ultérieur la plus raprocher.\n",
    "#  La méthode affiche la trace des cas pour lesquelles aucune valeur ultérieure n'est disponible; \n",
    "#  Ça ne devrait pas arrivé puisque nous avons déjà supprimé ou renseigné par la moyenne les cas sans valeurs antérieure ni ultérieure.\n",
    "def renseigner_manquante_ulte(df):\n",
    "    nullable_cols = ['nativity', 'migration', 'health_expend', 'educ_expend', 'gdp', 'taxes', 'budget', 'milit']\n",
    "    for i, row in df[df.isna().any(axis=1)].iterrows():\n",
    "        for colname in nullable_cols:\n",
    "            if pd.isnull(row[colname]):\n",
    "                t_annee = row.annee + 1\n",
    "                while t_annee <= 2023:\n",
    "                    try:\n",
    "                        val_precedente = df.loc[(df.annee == t_annee) & (df.Country == row.Country)][colname].values[0]\n",
    "                    except IndexError:\n",
    "                        # Pas de données pour l'indice de bonheur de ce pays cet année, on passe à l'année de la prochaine itération\n",
    "                        val_precedente = None\n",
    "                    \n",
    "                    if pd.notnull(val_precedente):\n",
    "                        df.loc[i, colname] = val_precedente\n",
    "                        break\n",
    "                    t_annee += 1\n",
    "                if t_annee > 2023:\n",
    "                    print(f\"Aucune valeur de remplacement pour {row.Country}, {colname} en {row.annee}.\")\n",
    "    return df"
   ]
  },
  {
   "cell_type": "code",
   "execution_count": 31,
   "id": "f1545986-d69c-40fe-a95d-90f11363fd51",
   "metadata": {},
   "outputs": [],
   "source": [
    "df_global = renseigner_manquante_ulte(df_global)"
   ]
  },
  {
   "cell_type": "markdown",
   "id": "62753b7f-855f-4ce6-b529-e82c8f32d628",
   "metadata": {},
   "source": [
    "Vérification qu'il ne restes plus de valeurs manquantes"
   ]
  },
  {
   "cell_type": "code",
   "execution_count": 32,
   "id": "62e828ac-d197-4559-8744-6acd8191ad10",
   "metadata": {},
   "outputs": [
    {
     "data": {
      "text/plain": [
       "annee              0\n",
       "Country            0\n",
       "Happiness Score    0\n",
       "nativity           0\n",
       "migration          0\n",
       "health_expend      0\n",
       "educ_expend        0\n",
       "gdp                0\n",
       "taxes              0\n",
       "budget             0\n",
       "milit              0\n",
       "dtype: int64"
      ]
     },
     "execution_count": 32,
     "metadata": {},
     "output_type": "execute_result"
    }
   ],
   "source": [
    "df_global.isna().sum()"
   ]
  },
  {
   "cell_type": "markdown",
   "id": "dbb1e4d6-de43-4329-a97a-ed41fa43d4c6",
   "metadata": {},
   "source": [
    "Maintenant que l'ensemble de données ne contient plus de valeurs manquantes nous allons le sauvegarder ainsi."
   ]
  },
  {
   "cell_type": "code",
   "execution_count": 33,
   "id": "e8e74f63-3e29-4aa2-9c64-33c609386f2b",
   "metadata": {},
   "outputs": [],
   "source": [
    "df_global.to_csv(\"data/merged/global2.csv\", sep=\";\", index=False) "
   ]
  },
  {
   "cell_type": "code",
   "execution_count": null,
   "id": "de209e61-34a7-4ba4-a8a3-d5dced6604a2",
   "metadata": {},
   "outputs": [],
   "source": []
  }
 ],
 "metadata": {
  "kernelspec": {
   "display_name": "Python 3 (ipykernel)",
   "language": "python",
   "name": "python3"
  },
  "language_info": {
   "codemirror_mode": {
    "name": "ipython",
    "version": 3
   },
   "file_extension": ".py",
   "mimetype": "text/x-python",
   "name": "python",
   "nbconvert_exporter": "python",
   "pygments_lexer": "ipython3",
   "version": "3.8.6rc1"
  }
 },
 "nbformat": 4,
 "nbformat_minor": 5
}
