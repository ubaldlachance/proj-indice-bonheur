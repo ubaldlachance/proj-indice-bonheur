{
 "cells": [
  {
   "cell_type": "markdown",
   "id": "d614f514-bd42-4a39-8295-a83e842ec933",
   "metadata": {},
   "source": [
    "# Préparation des données de dépenses en santé"
   ]
  },
  {
   "cell_type": "markdown",
   "id": "c064863c-dd9f-41ec-a691-b668629a5bfe",
   "metadata": {},
   "source": [
    "Ce notebook contient une transformation spécifique ayant dû être effectué pour les données sur les dépenses de santé pour les années 2021, 2022 et 2023.\n",
    "Il lit en entrée trois fichiers csv et en produira trois dans le bon format.\n",
    "\n",
    "Les données sur les dépenses en santé ne sont pas disponibles dans le format tabulaire habituel pour ces années.\n",
    "J'ai donc effectué un copier-coller dans un csv, le pays et la valeur se trouvant ainsi sur deux lignes différentes.\n",
    "\n",
    "Les cellules font la transformation des csv ayant pays et valeur sur deux lignes distinctes afin de les avoir sur une seule ligne dans le même format que les autres CSV.\n",
    "Les cellules suivantes sont identiques à l'exception des fichiers traités."
   ]
  },
  {
   "cell_type": "code",
   "execution_count": 7,
   "id": "537c9a37-ea5e-477f-a560-4120a9a572b1",
   "metadata": {},
   "outputs": [],
   "source": [
    "with open('data/worldfacts/2021/pre_health.csv', 'r') as file_in:\n",
    "    lines = file_in.readlines()\n",
    "\n",
    "lines = [li.rstrip() for li in lines]\n",
    "\n",
    "with open('data/worldfacts/2021/health_expend.csv', 'w') as file_out:\n",
    "    file_out.write(\"Country;B;C\\n\")\n",
    "    i = 0\n",
    "    while i < len(lines):\n",
    "        # on prend la valeur numérique en arrêtant au '%' pour la troisième colonne \"C\"\n",
    "        file_out.write(lines[i]+\";\"+lines[i+1]+\";\"+lines[i+1][0:str.find(lines[i+1], \"%\")]+\"\\n\")\n",
    "        i += 2\n",
    "        "
   ]
  },
  {
   "cell_type": "code",
   "execution_count": 8,
   "id": "79d142ab-3d92-44a0-ba02-70b983ba4955",
   "metadata": {},
   "outputs": [],
   "source": [
    "with open('data/worldfacts/2022/pre_health.csv', 'r') as file_in:\n",
    "    lines = file_in.readlines()\n",
    "\n",
    "lines = [li.rstrip() for li in lines]\n",
    "\n",
    "with open('data/worldfacts/2022/health_expend.csv', 'w') as file_out:\n",
    "    file_out.write(\"Country;B;C\\n\")\n",
    "    i = 0\n",
    "    while i < len(lines):\n",
    "        # on prend la valeur numérique en arrêtant au '%' pour la troisième colonne \"C\"\n",
    "        file_out.write(lines[i]+\";\"+lines[i+1]+\";\"+lines[i+1][0:str.find(lines[i+1], \"%\")]+\"\\n\")\n",
    "        i += 2\n",
    "        "
   ]
  },
  {
   "cell_type": "code",
   "execution_count": 9,
   "id": "213e416c-4bbd-47ee-87f8-c19dd8cd49bb",
   "metadata": {},
   "outputs": [],
   "source": [
    "with open('data/worldfacts/2023/pre_health.csv', 'r') as file_in:\n",
    "    lines = file_in.readlines()\n",
    "\n",
    "lines = [li.rstrip() for li in lines]\n",
    "\n",
    "with open('data/worldfacts/2023/health_expend.csv', 'w') as file_out:\n",
    "    file_out.write(\"Country;B;C\\n\")\n",
    "    i = 0\n",
    "    while i < len(lines):\n",
    "        # on prend la valeur numérique en arrêtant au '%' pour la troisième colonne \"C\"\n",
    "        file_out.write(lines[i]+\";\"+lines[i+1]+\";\"+lines[i+1][0:str.find(lines[i+1], \"%\")]+\"\\n\")\n",
    "        i += 2"
   ]
  },
  {
   "cell_type": "markdown",
   "id": "d8b53662-d814-4670-ae61-5c6f49d22850",
   "metadata": {},
   "source": [
    "Les fichiers \"health_expend.csv\" seront utilisés pour les prochaines étapes."
   ]
  },
  {
   "cell_type": "code",
   "execution_count": null,
   "id": "3f45abb9-79f9-4e60-9090-c9d921c84ada",
   "metadata": {},
   "outputs": [],
   "source": []
  }
 ],
 "metadata": {
  "kernelspec": {
   "display_name": "Python 3 (ipykernel)",
   "language": "python",
   "name": "python3"
  },
  "language_info": {
   "codemirror_mode": {
    "name": "ipython",
    "version": 3
   },
   "file_extension": ".py",
   "mimetype": "text/x-python",
   "name": "python",
   "nbconvert_exporter": "python",
   "pygments_lexer": "ipython3",
   "version": "3.8.6rc1"
  }
 },
 "nbformat": 4,
 "nbformat_minor": 5
}
