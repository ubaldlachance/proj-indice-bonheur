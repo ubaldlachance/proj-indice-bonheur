{
 "cells": [
  {
   "cell_type": "markdown",
   "id": "12614692-3094-449a-831b-29b2abe21299",
   "metadata": {},
   "source": [
    "# Forêt aléatoire"
   ]
  },
  {
   "cell_type": "code",
   "execution_count": 44,
   "id": "34742f5f-b4af-4a93-ab57-ff5f877066b8",
   "metadata": {},
   "outputs": [],
   "source": [
    "import numpy as np\n",
    "import pandas as pd\n",
    "from sklearn.ensemble import RandomForestRegressor\n",
    "from sklearn.preprocessing import StandardScaler  \n",
    "from sklearn.model_selection import train_test_split"
   ]
  },
  {
   "cell_type": "code",
   "execution_count": 2,
   "id": "0c2025cb-05e5-4cd8-bc2c-39ddc8be06fe",
   "metadata": {},
   "outputs": [],
   "source": [
    "df = pd.read_csv(\"data/merged/global_cluster.csv\", sep=\";\") "
   ]
  },
  {
   "cell_type": "markdown",
   "id": "dc495810-ab89-45d7-8279-de51972fc962",
   "metadata": {},
   "source": [
    "### Séparation des données en ensemble d'entrainement et de test."
   ]
  },
  {
   "cell_type": "code",
   "execution_count": 3,
   "id": "4c67ddd3-574c-49e2-a770-aacd887b64a8",
   "metadata": {},
   "outputs": [],
   "source": [
    "df_train, df_test = train_test_split(df, test_size=0.2, random_state=84)"
   ]
  },
  {
   "cell_type": "markdown",
   "id": "e35af477-412b-453f-b2fc-b621eebf4170",
   "metadata": {},
   "source": [
    "### Entraînement du modèle"
   ]
  },
  {
   "cell_type": "code",
   "execution_count": 48,
   "id": "c4b6fdc1-b03f-446c-be42-265950440d76",
   "metadata": {},
   "outputs": [
    {
     "data": {
      "text/plain": [
       "0.8773195296466784"
      ]
     },
     "execution_count": 48,
     "metadata": {},
     "output_type": "execute_result"
    }
   ],
   "source": [
    "regr = RandomForestRegressor(n_estimators=150, random_state=84, oob_score=True)\n",
    "model = regr.fit(df_train[[\"nativity\", \"health_expend\", \"educ_expend\", \"taxes\", \"gdp\"]], df_train[\"Happiness Score\"])\n",
    "model.oob_score_"
   ]
  },
  {
   "cell_type": "markdown",
   "id": "782fc629-9252-4af5-858a-6ee973970f5a",
   "metadata": {},
   "source": [
    "### Nous obtenons un score R2 assez intéressant avecl'ensemble de test.\n",
    "Ce score est calculé par la formule:  1 - (résidus_sum ^2  / total_sommes ^2 ) "
   ]
  },
  {
   "cell_type": "code",
   "execution_count": 49,
   "id": "2f96fa58-f032-49bf-ba73-aa4c1770b271",
   "metadata": {},
   "outputs": [
    {
     "data": {
      "text/plain": [
       "0.8847634219143264"
      ]
     },
     "execution_count": 49,
     "metadata": {},
     "output_type": "execute_result"
    }
   ],
   "source": [
    "model.score(df_test[[\"nativity\", \"health_expend\", \"educ_expend\", \"taxes\", \"gdp\"]], df_test[\"Happiness Score\"])"
   ]
  },
  {
   "cell_type": "markdown",
   "id": "96a3487f-b34b-4ae6-99da-e7bebc96ed20",
   "metadata": {},
   "source": [
    "## Sauvegarde du fichier contenant les résultats de tests."
   ]
  },
  {
   "cell_type": "code",
   "execution_count": 50,
   "id": "38cec8fb-122e-4690-853e-72665348506a",
   "metadata": {},
   "outputs": [
    {
     "data": {
      "text/html": [
       "<div>\n",
       "<style scoped>\n",
       "    .dataframe tbody tr th:only-of-type {\n",
       "        vertical-align: middle;\n",
       "    }\n",
       "\n",
       "    .dataframe tbody tr th {\n",
       "        vertical-align: top;\n",
       "    }\n",
       "\n",
       "    .dataframe thead th {\n",
       "        text-align: right;\n",
       "    }\n",
       "</style>\n",
       "<table border=\"1\" class=\"dataframe\">\n",
       "  <thead>\n",
       "    <tr style=\"text-align: right;\">\n",
       "      <th></th>\n",
       "      <th>annee</th>\n",
       "      <th>Country</th>\n",
       "      <th>Happiness Score</th>\n",
       "      <th>nativity</th>\n",
       "      <th>migration</th>\n",
       "      <th>health_expend</th>\n",
       "      <th>educ_expend</th>\n",
       "      <th>gdp</th>\n",
       "      <th>taxes</th>\n",
       "      <th>budget</th>\n",
       "      <th>milit</th>\n",
       "      <th>cluster_init</th>\n",
       "      <th>cluster3</th>\n",
       "      <th>cluster6</th>\n",
       "      <th>predicted_score</th>\n",
       "    </tr>\n",
       "  </thead>\n",
       "  <tbody>\n",
       "    <tr>\n",
       "      <th>647</th>\n",
       "      <td>2019</td>\n",
       "      <td>Bahrain</td>\n",
       "      <td>6.1990</td>\n",
       "      <td>13.10</td>\n",
       "      <td>11.60</td>\n",
       "      <td>4.9</td>\n",
       "      <td>2.3</td>\n",
       "      <td>49000.0</td>\n",
       "      <td>16.60</td>\n",
       "      <td>-10.1</td>\n",
       "      <td>3.600000</td>\n",
       "      <td>4</td>\n",
       "      <td>0</td>\n",
       "      <td>4</td>\n",
       "      <td>6.159557</td>\n",
       "    </tr>\n",
       "    <tr>\n",
       "      <th>1272</th>\n",
       "      <td>2023</td>\n",
       "      <td>Russia</td>\n",
       "      <td>5.6610</td>\n",
       "      <td>9.22</td>\n",
       "      <td>1.70</td>\n",
       "      <td>7.6</td>\n",
       "      <td>3.7</td>\n",
       "      <td>28000.0</td>\n",
       "      <td>10.83</td>\n",
       "      <td>-1.4</td>\n",
       "      <td>5.400000</td>\n",
       "      <td>5</td>\n",
       "      <td>0</td>\n",
       "      <td>5</td>\n",
       "      <td>5.941517</td>\n",
       "    </tr>\n",
       "    <tr>\n",
       "      <th>880</th>\n",
       "      <td>2020</td>\n",
       "      <td>Jordan</td>\n",
       "      <td>4.6334</td>\n",
       "      <td>23.00</td>\n",
       "      <td>-11.30</td>\n",
       "      <td>8.1</td>\n",
       "      <td>3.1</td>\n",
       "      <td>3291.0</td>\n",
       "      <td>23.60</td>\n",
       "      <td>-5.1</td>\n",
       "      <td>4.700000</td>\n",
       "      <td>0</td>\n",
       "      <td>2</td>\n",
       "      <td>2</td>\n",
       "      <td>3.859309</td>\n",
       "    </tr>\n",
       "    <tr>\n",
       "      <th>957</th>\n",
       "      <td>2021</td>\n",
       "      <td>Poland</td>\n",
       "      <td>6.1660</td>\n",
       "      <td>8.69</td>\n",
       "      <td>-0.33</td>\n",
       "      <td>6.3</td>\n",
       "      <td>4.6</td>\n",
       "      <td>32200.0</td>\n",
       "      <td>39.50</td>\n",
       "      <td>-1.7</td>\n",
       "      <td>2.200000</td>\n",
       "      <td>5</td>\n",
       "      <td>0</td>\n",
       "      <td>5</td>\n",
       "      <td>6.189483</td>\n",
       "    </tr>\n",
       "    <tr>\n",
       "      <th>1209</th>\n",
       "      <td>2023</td>\n",
       "      <td>Norway</td>\n",
       "      <td>7.3150</td>\n",
       "      <td>11.89</td>\n",
       "      <td>3.89</td>\n",
       "      <td>11.4</td>\n",
       "      <td>5.9</td>\n",
       "      <td>65700.0</td>\n",
       "      <td>21.09</td>\n",
       "      <td>4.4</td>\n",
       "      <td>1.740000</td>\n",
       "      <td>1</td>\n",
       "      <td>1</td>\n",
       "      <td>1</td>\n",
       "      <td>7.127334</td>\n",
       "    </tr>\n",
       "    <tr>\n",
       "      <th>...</th>\n",
       "      <td>...</td>\n",
       "      <td>...</td>\n",
       "      <td>...</td>\n",
       "      <td>...</td>\n",
       "      <td>...</td>\n",
       "      <td>...</td>\n",
       "      <td>...</td>\n",
       "      <td>...</td>\n",
       "      <td>...</td>\n",
       "      <td>...</td>\n",
       "      <td>...</td>\n",
       "      <td>...</td>\n",
       "      <td>...</td>\n",
       "      <td>...</td>\n",
       "      <td>...</td>\n",
       "    </tr>\n",
       "    <tr>\n",
       "      <th>385</th>\n",
       "      <td>2017</td>\n",
       "      <td>Venezuela</td>\n",
       "      <td>5.2500</td>\n",
       "      <td>18.80</td>\n",
       "      <td>-1.20</td>\n",
       "      <td>5.3</td>\n",
       "      <td>6.9</td>\n",
       "      <td>14000.0</td>\n",
       "      <td>34.40</td>\n",
       "      <td>-48.0</td>\n",
       "      <td>1.000000</td>\n",
       "      <td>2</td>\n",
       "      <td>2</td>\n",
       "      <td>2</td>\n",
       "      <td>5.573255</td>\n",
       "    </tr>\n",
       "    <tr>\n",
       "      <th>261</th>\n",
       "      <td>2016</td>\n",
       "      <td>Namibia</td>\n",
       "      <td>4.5740</td>\n",
       "      <td>27.90</td>\n",
       "      <td>0.00</td>\n",
       "      <td>8.9</td>\n",
       "      <td>8.3</td>\n",
       "      <td>11400.0</td>\n",
       "      <td>35.50</td>\n",
       "      <td>-5.5</td>\n",
       "      <td>4.200000</td>\n",
       "      <td>2</td>\n",
       "      <td>2</td>\n",
       "      <td>0</td>\n",
       "      <td>4.562659</td>\n",
       "    </tr>\n",
       "    <tr>\n",
       "      <th>485</th>\n",
       "      <td>2018</td>\n",
       "      <td>Brazil</td>\n",
       "      <td>6.4190</td>\n",
       "      <td>13.90</td>\n",
       "      <td>-0.10</td>\n",
       "      <td>8.3</td>\n",
       "      <td>5.9</td>\n",
       "      <td>15600.0</td>\n",
       "      <td>35.70</td>\n",
       "      <td>-1.1</td>\n",
       "      <td>1.320000</td>\n",
       "      <td>2</td>\n",
       "      <td>2</td>\n",
       "      <td>2</td>\n",
       "      <td>6.334489</td>\n",
       "    </tr>\n",
       "    <tr>\n",
       "      <th>234</th>\n",
       "      <td>2016</td>\n",
       "      <td>Bhutan</td>\n",
       "      <td>5.1960</td>\n",
       "      <td>17.50</td>\n",
       "      <td>0.00</td>\n",
       "      <td>3.6</td>\n",
       "      <td>5.9</td>\n",
       "      <td>8200.0</td>\n",
       "      <td>27.50</td>\n",
       "      <td>-3.8</td>\n",
       "      <td>2.152823</td>\n",
       "      <td>0</td>\n",
       "      <td>2</td>\n",
       "      <td>0</td>\n",
       "      <td>5.445467</td>\n",
       "    </tr>\n",
       "    <tr>\n",
       "      <th>276</th>\n",
       "      <td>2016</td>\n",
       "      <td>Senegal</td>\n",
       "      <td>4.2190</td>\n",
       "      <td>34.00</td>\n",
       "      <td>-1.50</td>\n",
       "      <td>4.7</td>\n",
       "      <td>5.6</td>\n",
       "      <td>2500.0</td>\n",
       "      <td>25.10</td>\n",
       "      <td>-4.8</td>\n",
       "      <td>1.890000</td>\n",
       "      <td>0</td>\n",
       "      <td>2</td>\n",
       "      <td>0</td>\n",
       "      <td>3.908814</td>\n",
       "    </tr>\n",
       "  </tbody>\n",
       "</table>\n",
       "<p>268 rows × 15 columns</p>\n",
       "</div>"
      ],
      "text/plain": [
       "      annee    Country  Happiness Score  nativity  migration  health_expend  \\\n",
       "647    2019    Bahrain           6.1990     13.10      11.60            4.9   \n",
       "1272   2023     Russia           5.6610      9.22       1.70            7.6   \n",
       "880    2020     Jordan           4.6334     23.00     -11.30            8.1   \n",
       "957    2021     Poland           6.1660      8.69      -0.33            6.3   \n",
       "1209   2023     Norway           7.3150     11.89       3.89           11.4   \n",
       "...     ...        ...              ...       ...        ...            ...   \n",
       "385    2017  Venezuela           5.2500     18.80      -1.20            5.3   \n",
       "261    2016    Namibia           4.5740     27.90       0.00            8.9   \n",
       "485    2018     Brazil           6.4190     13.90      -0.10            8.3   \n",
       "234    2016     Bhutan           5.1960     17.50       0.00            3.6   \n",
       "276    2016    Senegal           4.2190     34.00      -1.50            4.7   \n",
       "\n",
       "      educ_expend      gdp  taxes  budget     milit  cluster_init  cluster3  \\\n",
       "647           2.3  49000.0  16.60   -10.1  3.600000             4         0   \n",
       "1272          3.7  28000.0  10.83    -1.4  5.400000             5         0   \n",
       "880           3.1   3291.0  23.60    -5.1  4.700000             0         2   \n",
       "957           4.6  32200.0  39.50    -1.7  2.200000             5         0   \n",
       "1209          5.9  65700.0  21.09     4.4  1.740000             1         1   \n",
       "...           ...      ...    ...     ...       ...           ...       ...   \n",
       "385           6.9  14000.0  34.40   -48.0  1.000000             2         2   \n",
       "261           8.3  11400.0  35.50    -5.5  4.200000             2         2   \n",
       "485           5.9  15600.0  35.70    -1.1  1.320000             2         2   \n",
       "234           5.9   8200.0  27.50    -3.8  2.152823             0         2   \n",
       "276           5.6   2500.0  25.10    -4.8  1.890000             0         2   \n",
       "\n",
       "      cluster6  predicted_score  \n",
       "647          4         6.159557  \n",
       "1272         5         5.941517  \n",
       "880          2         3.859309  \n",
       "957          5         6.189483  \n",
       "1209         1         7.127334  \n",
       "...        ...              ...  \n",
       "385          2         5.573255  \n",
       "261          0         4.562659  \n",
       "485          2         6.334489  \n",
       "234          0         5.445467  \n",
       "276          0         3.908814  \n",
       "\n",
       "[268 rows x 15 columns]"
      ]
     },
     "execution_count": 50,
     "metadata": {},
     "output_type": "execute_result"
    }
   ],
   "source": [
    "### Prédiction\n",
    "indice_predit = model.predict(df_test[[\"nativity\", \"health_expend\", \"educ_expend\", \"taxes\", \"gdp\"]])\n",
    "df_test['predicted_score'] = indice_predit\n",
    "\n",
    "# Sauvegarde du data frame des résultats de tests\n",
    "df_test.to_csv(\"data/resultats/test_rnd_forest.csv\", sep=\";\", index=False) \n",
    "df_test"
   ]
  },
  {
   "cell_type": "markdown",
   "id": "c31d95de-56f2-47bc-b7e7-035ff2bae879",
   "metadata": {},
   "source": [
    "### Quelque tests avec des données fictives\n",
    "À titre comparatif, utilisation des même données fictives que dans les notebook **06_regression_lin** et **07_pmc**"
   ]
  },
  {
   "cell_type": "code",
   "execution_count": 51,
   "id": "80a23128-c894-44dc-85ad-93fca484aac4",
   "metadata": {},
   "outputs": [
    {
     "data": {
      "text/html": [
       "<div>\n",
       "<style scoped>\n",
       "    .dataframe tbody tr th:only-of-type {\n",
       "        vertical-align: middle;\n",
       "    }\n",
       "\n",
       "    .dataframe tbody tr th {\n",
       "        vertical-align: top;\n",
       "    }\n",
       "\n",
       "    .dataframe thead th {\n",
       "        text-align: right;\n",
       "    }\n",
       "</style>\n",
       "<table border=\"1\" class=\"dataframe\">\n",
       "  <thead>\n",
       "    <tr style=\"text-align: right;\">\n",
       "      <th></th>\n",
       "      <th>nativity</th>\n",
       "      <th>health_expend</th>\n",
       "      <th>educ_expend</th>\n",
       "      <th>taxes</th>\n",
       "      <th>gdp</th>\n",
       "    </tr>\n",
       "  </thead>\n",
       "  <tbody>\n",
       "    <tr>\n",
       "      <th>0</th>\n",
       "      <td>13.3</td>\n",
       "      <td>6.6</td>\n",
       "      <td>3.30</td>\n",
       "      <td>16.9</td>\n",
       "      <td>14400</td>\n",
       "    </tr>\n",
       "    <tr>\n",
       "      <th>1</th>\n",
       "      <td>19.5</td>\n",
       "      <td>6.7</td>\n",
       "      <td>9.20</td>\n",
       "      <td>41.0</td>\n",
       "      <td>8200</td>\n",
       "    </tr>\n",
       "    <tr>\n",
       "      <th>2</th>\n",
       "      <td>24.2</td>\n",
       "      <td>8.8</td>\n",
       "      <td>10.10</td>\n",
       "      <td>32.0</td>\n",
       "      <td>9100</td>\n",
       "    </tr>\n",
       "    <tr>\n",
       "      <th>3</th>\n",
       "      <td>23.0</td>\n",
       "      <td>5.2</td>\n",
       "      <td>4.05</td>\n",
       "      <td>13.8</td>\n",
       "      <td>8300</td>\n",
       "    </tr>\n",
       "    <tr>\n",
       "      <th>4</th>\n",
       "      <td>7.9</td>\n",
       "      <td>9.1</td>\n",
       "      <td>4.10</td>\n",
       "      <td>14.1</td>\n",
       "      <td>42010</td>\n",
       "    </tr>\n",
       "  </tbody>\n",
       "</table>\n",
       "</div>"
      ],
      "text/plain": [
       "   nativity  health_expend  educ_expend  taxes    gdp\n",
       "0      13.3            6.6         3.30   16.9  14400\n",
       "1      19.5            6.7         9.20   41.0   8200\n",
       "2      24.2            8.8        10.10   32.0   9100\n",
       "3      23.0            5.2         4.05   13.8   8300\n",
       "4       7.9            9.1         4.10   14.1  42010"
      ]
     },
     "execution_count": 51,
     "metadata": {},
     "output_type": "execute_result"
    }
   ],
   "source": [
    "# Ensemble de test, cinq lignes de données fictives\n",
    "df_test5 = pd.DataFrame([[13.3, 6.6, 3.3, 16.9, 14400],\n",
    "                         [19.5, 6.7, 9.2, 41, 8200],                         \n",
    "                         [24.2, 8.8, 10.1, 32, 9100],\n",
    "                         [23, 5.2, 4.05, 13.8, 8300],\n",
    "                         [7.9, 9.1, 4.1, 14.1, 42010]], \n",
    "                        columns=[\"nativity\", \"health_expend\", \"educ_expend\", \"taxes\", \"gdp\"])\n",
    "df_test5"
   ]
  },
  {
   "cell_type": "markdown",
   "id": "7755671c-84da-4b96-be9d-a58e3bf3a058",
   "metadata": {},
   "source": [
    "Voici les indices de bonheurs prédits pour les données fictive ci-dessus."
   ]
  },
  {
   "cell_type": "code",
   "execution_count": 52,
   "id": "9244178f-918e-4d2b-8597-efebf3eee351",
   "metadata": {},
   "outputs": [
    {
     "data": {
      "text/plain": [
       "array([5.25037533, 5.09516866, 4.70079467, 5.43963066, 6.31718267])"
      ]
     },
     "execution_count": 52,
     "metadata": {},
     "output_type": "execute_result"
    }
   ],
   "source": [
    "test5_results = regr.predict(df_test5)\n",
    "test5_results"
   ]
  },
  {
   "cell_type": "markdown",
   "id": "89ff82c8-0b48-4ece-b205-534cff06b59c",
   "metadata": {},
   "source": [
    "#### Comme point de comparaisons, le modèle de régression linéaire prédisait ces résultats pour les même données fictives en entrée:\n",
    "array([5.39162182, 5.53638813, 5.47342865, 4.85602985, 6.40364188])"
   ]
  },
  {
   "cell_type": "markdown",
   "id": "fd289d8e-f77f-4363-be8f-92e67777fc31",
   "metadata": {},
   "source": [
    "#### Le modèle de perceptrons multicouches prédisait ces résultats pour les même données fictives en entrée:\n",
    "array([5.24943393, 5.00605336, 4.08976202, 5.08286563, 6.21155658])"
   ]
  },
  {
   "cell_type": "code",
   "execution_count": null,
   "id": "1a00e1ff-3513-4c61-89c5-69b8f02dba05",
   "metadata": {},
   "outputs": [],
   "source": []
  }
 ],
 "metadata": {
  "kernelspec": {
   "display_name": "Python 3 (ipykernel)",
   "language": "python",
   "name": "python3"
  },
  "language_info": {
   "codemirror_mode": {
    "name": "ipython",
    "version": 3
   },
   "file_extension": ".py",
   "mimetype": "text/x-python",
   "name": "python",
   "nbconvert_exporter": "python",
   "pygments_lexer": "ipython3",
   "version": "3.8.6rc1"
  }
 },
 "nbformat": 4,
 "nbformat_minor": 5
}
