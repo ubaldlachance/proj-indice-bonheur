{
 "cells": [
  {
   "cell_type": "raw",
   "id": "d8efea9e-1a73-49e7-928a-8cb72668bd4f",
   "metadata": {},
   "source": [
    "# Réseau de perceptrons multicouches"
   ]
  },
  {
   "cell_type": "code",
   "execution_count": 30,
   "id": "34742f5f-b4af-4a93-ab57-ff5f877066b8",
   "metadata": {},
   "outputs": [],
   "source": [
    "import numpy as np\n",
    "import pandas as pd\n",
    "from sklearn.neural_network import MLPRegressor\n",
    "from sklearn.preprocessing import StandardScaler  \n",
    "from sklearn.model_selection import train_test_split"
   ]
  },
  {
   "cell_type": "code",
   "execution_count": 31,
   "id": "0c2025cb-05e5-4cd8-bc2c-39ddc8be06fe",
   "metadata": {},
   "outputs": [],
   "source": [
    "df = pd.read_csv(\"data/merged/global_cluster.csv\", sep=\";\") "
   ]
  },
  {
   "cell_type": "markdown",
   "id": "844b658a-235f-4e51-9359-2f998193a199",
   "metadata": {},
   "source": [
    "### Séparation des données en ensemble d'entrainement et de test."
   ]
  },
  {
   "cell_type": "code",
   "execution_count": 5,
   "id": "48eb1c7d-61ea-4a34-8503-158a89151227",
   "metadata": {},
   "outputs": [],
   "source": [
    "df_train, df_test = train_test_split(df, test_size=0.2, random_state=84)"
   ]
  },
  {
   "cell_type": "markdown",
   "id": "2df18104-24b9-41f6-8c11-69dcf1dc77aa",
   "metadata": {},
   "source": [
    "## Entraînement d'un modèle avec variables indépendantes gardées tel quel."
   ]
  },
  {
   "cell_type": "code",
   "execution_count": 16,
   "id": "902876f7-cfde-4a32-8657-4a8193ac1152",
   "metadata": {},
   "outputs": [],
   "source": [
    "regr = MLPRegressor(random_state=84, max_iter=500).fit(df_train[[\"nativity\", \"health_expend\", \"educ_expend\", \"taxes\", \"gdp\"]], df_train[\"Happiness Score\"])\n",
    "indice_predit = regr.predict(df_test[[\"nativity\", \"health_expend\", \"educ_expend\", \"taxes\", \"gdp\"]])"
   ]
  },
  {
   "cell_type": "markdown",
   "id": "15bddb3b-ad01-47ec-9bd5-534cef9fdab9",
   "metadata": {},
   "source": [
    "### Nous obtenons un score R2 négatif. Ce modèle est donc inutilisable.\n",
    "Ce score est calculé par la formule:  1 - (résidus_sum ^2  / total_sommes ^2 ) "
   ]
  },
  {
   "cell_type": "code",
   "execution_count": 17,
   "id": "7518c790-3799-4873-a4a5-c4ae7e553ff6",
   "metadata": {},
   "outputs": [
    {
     "data": {
      "text/plain": [
       "-6.670444781816871"
      ]
     },
     "execution_count": 17,
     "metadata": {},
     "output_type": "execute_result"
    }
   ],
   "source": [
    "regr.score(df_test[[\"nativity\", \"health_expend\", \"educ_expend\", \"taxes\", \"gdp\"]], df_test[\"Happiness Score\"])"
   ]
  },
  {
   "cell_type": "markdown",
   "id": "3638f2e9-8fac-4895-9cb0-a5c7e972635b",
   "metadata": {},
   "source": [
    "## Entraînement d'un modèle avec variables indépendantes misent à l'échelle."
   ]
  },
  {
   "cell_type": "code",
   "execution_count": 20,
   "id": "c4b6fdc1-b03f-446c-be42-265950440d76",
   "metadata": {},
   "outputs": [],
   "source": [
    "scaler = StandardScaler()  \n",
    "\n",
    "# Mise à l'échelle des variables indépendantes afins d'avoir des moyennes de 0 et des variances de 1.\n",
    "scaler.fit(df_train[[\"nativity\", \"health_expend\", \"educ_expend\", \"taxes\", \"gdp\"]])  \n",
    "entree_train = scaler.transform(df_train[[\"nativity\", \"health_expend\", \"educ_expend\", \"taxes\", \"gdp\"]])  \n",
    "\n",
    "# apply same transformation to test data\n",
    "entree_test = scaler.transform(df_test[[\"nativity\", \"health_expend\", \"educ_expend\", \"taxes\", \"gdp\"]]) \n",
    "\n",
    "regr = MLPRegressor(random_state=84, max_iter=1000).fit(entree_train, df_train[\"Happiness Score\"])\n",
    "indice_predit = regr.predict(entree_test)"
   ]
  },
  {
   "cell_type": "markdown",
   "id": "6cdbbce3-16e7-4640-8e11-66f17e71a79b",
   "metadata": {},
   "source": [
    "### Cette fois nous obtenons un score R2 beaucoup plus intéressant."
   ]
  },
  {
   "cell_type": "code",
   "execution_count": 21,
   "id": "41155436-3ae9-409a-92cb-3359ee53558b",
   "metadata": {},
   "outputs": [
    {
     "data": {
      "text/plain": [
       "0.7795366216883206"
      ]
     },
     "execution_count": 21,
     "metadata": {},
     "output_type": "execute_result"
    }
   ],
   "source": [
    "regr.score(entree_test, df_test[\"Happiness Score\"])"
   ]
  },
  {
   "cell_type": "markdown",
   "id": "84a797e1-9b85-4932-b27d-8069d4764dab",
   "metadata": {},
   "source": [
    "## Sauvegarde du fichier contenant les résultats de tests."
   ]
  },
  {
   "cell_type": "code",
   "execution_count": 25,
   "id": "c9b70075-e938-4a58-af7d-6faf9fd45c37",
   "metadata": {},
   "outputs": [
    {
     "data": {
      "text/html": [
       "<div>\n",
       "<style scoped>\n",
       "    .dataframe tbody tr th:only-of-type {\n",
       "        vertical-align: middle;\n",
       "    }\n",
       "\n",
       "    .dataframe tbody tr th {\n",
       "        vertical-align: top;\n",
       "    }\n",
       "\n",
       "    .dataframe thead th {\n",
       "        text-align: right;\n",
       "    }\n",
       "</style>\n",
       "<table border=\"1\" class=\"dataframe\">\n",
       "  <thead>\n",
       "    <tr style=\"text-align: right;\">\n",
       "      <th></th>\n",
       "      <th>annee</th>\n",
       "      <th>Country</th>\n",
       "      <th>Happiness Score</th>\n",
       "      <th>nativity</th>\n",
       "      <th>migration</th>\n",
       "      <th>health_expend</th>\n",
       "      <th>educ_expend</th>\n",
       "      <th>gdp</th>\n",
       "      <th>taxes</th>\n",
       "      <th>budget</th>\n",
       "      <th>milit</th>\n",
       "      <th>cluster_init</th>\n",
       "      <th>cluster3</th>\n",
       "      <th>cluster6</th>\n",
       "      <th>predicted_score</th>\n",
       "    </tr>\n",
       "  </thead>\n",
       "  <tbody>\n",
       "    <tr>\n",
       "      <th>647</th>\n",
       "      <td>2019</td>\n",
       "      <td>Bahrain</td>\n",
       "      <td>6.1990</td>\n",
       "      <td>13.10</td>\n",
       "      <td>11.60</td>\n",
       "      <td>4.9</td>\n",
       "      <td>2.3</td>\n",
       "      <td>49000.0</td>\n",
       "      <td>16.60</td>\n",
       "      <td>-10.1</td>\n",
       "      <td>3.600000</td>\n",
       "      <td>4</td>\n",
       "      <td>0</td>\n",
       "      <td>4</td>\n",
       "      <td>6.467802</td>\n",
       "    </tr>\n",
       "    <tr>\n",
       "      <th>1272</th>\n",
       "      <td>2023</td>\n",
       "      <td>Russia</td>\n",
       "      <td>5.6610</td>\n",
       "      <td>9.22</td>\n",
       "      <td>1.70</td>\n",
       "      <td>7.6</td>\n",
       "      <td>3.7</td>\n",
       "      <td>28000.0</td>\n",
       "      <td>10.83</td>\n",
       "      <td>-1.4</td>\n",
       "      <td>5.400000</td>\n",
       "      <td>5</td>\n",
       "      <td>0</td>\n",
       "      <td>5</td>\n",
       "      <td>5.842086</td>\n",
       "    </tr>\n",
       "    <tr>\n",
       "      <th>880</th>\n",
       "      <td>2020</td>\n",
       "      <td>Jordan</td>\n",
       "      <td>4.6334</td>\n",
       "      <td>23.00</td>\n",
       "      <td>-11.30</td>\n",
       "      <td>8.1</td>\n",
       "      <td>3.1</td>\n",
       "      <td>3291.0</td>\n",
       "      <td>23.60</td>\n",
       "      <td>-5.1</td>\n",
       "      <td>4.700000</td>\n",
       "      <td>0</td>\n",
       "      <td>2</td>\n",
       "      <td>2</td>\n",
       "      <td>4.393599</td>\n",
       "    </tr>\n",
       "    <tr>\n",
       "      <th>957</th>\n",
       "      <td>2021</td>\n",
       "      <td>Poland</td>\n",
       "      <td>6.1660</td>\n",
       "      <td>8.69</td>\n",
       "      <td>-0.33</td>\n",
       "      <td>6.3</td>\n",
       "      <td>4.6</td>\n",
       "      <td>32200.0</td>\n",
       "      <td>39.50</td>\n",
       "      <td>-1.7</td>\n",
       "      <td>2.200000</td>\n",
       "      <td>5</td>\n",
       "      <td>0</td>\n",
       "      <td>5</td>\n",
       "      <td>6.123789</td>\n",
       "    </tr>\n",
       "    <tr>\n",
       "      <th>1209</th>\n",
       "      <td>2023</td>\n",
       "      <td>Norway</td>\n",
       "      <td>7.3150</td>\n",
       "      <td>11.89</td>\n",
       "      <td>3.89</td>\n",
       "      <td>11.4</td>\n",
       "      <td>5.9</td>\n",
       "      <td>65700.0</td>\n",
       "      <td>21.09</td>\n",
       "      <td>4.4</td>\n",
       "      <td>1.740000</td>\n",
       "      <td>1</td>\n",
       "      <td>1</td>\n",
       "      <td>1</td>\n",
       "      <td>7.573119</td>\n",
       "    </tr>\n",
       "    <tr>\n",
       "      <th>...</th>\n",
       "      <td>...</td>\n",
       "      <td>...</td>\n",
       "      <td>...</td>\n",
       "      <td>...</td>\n",
       "      <td>...</td>\n",
       "      <td>...</td>\n",
       "      <td>...</td>\n",
       "      <td>...</td>\n",
       "      <td>...</td>\n",
       "      <td>...</td>\n",
       "      <td>...</td>\n",
       "      <td>...</td>\n",
       "      <td>...</td>\n",
       "      <td>...</td>\n",
       "      <td>...</td>\n",
       "    </tr>\n",
       "    <tr>\n",
       "      <th>385</th>\n",
       "      <td>2017</td>\n",
       "      <td>Venezuela</td>\n",
       "      <td>5.2500</td>\n",
       "      <td>18.80</td>\n",
       "      <td>-1.20</td>\n",
       "      <td>5.3</td>\n",
       "      <td>6.9</td>\n",
       "      <td>14000.0</td>\n",
       "      <td>34.40</td>\n",
       "      <td>-48.0</td>\n",
       "      <td>1.000000</td>\n",
       "      <td>2</td>\n",
       "      <td>2</td>\n",
       "      <td>2</td>\n",
       "      <td>5.449699</td>\n",
       "    </tr>\n",
       "    <tr>\n",
       "      <th>261</th>\n",
       "      <td>2016</td>\n",
       "      <td>Namibia</td>\n",
       "      <td>4.5740</td>\n",
       "      <td>27.90</td>\n",
       "      <td>0.00</td>\n",
       "      <td>8.9</td>\n",
       "      <td>8.3</td>\n",
       "      <td>11400.0</td>\n",
       "      <td>35.50</td>\n",
       "      <td>-5.5</td>\n",
       "      <td>4.200000</td>\n",
       "      <td>2</td>\n",
       "      <td>2</td>\n",
       "      <td>0</td>\n",
       "      <td>4.372682</td>\n",
       "    </tr>\n",
       "    <tr>\n",
       "      <th>485</th>\n",
       "      <td>2018</td>\n",
       "      <td>Brazil</td>\n",
       "      <td>6.4190</td>\n",
       "      <td>13.90</td>\n",
       "      <td>-0.10</td>\n",
       "      <td>8.3</td>\n",
       "      <td>5.9</td>\n",
       "      <td>15600.0</td>\n",
       "      <td>35.70</td>\n",
       "      <td>-1.1</td>\n",
       "      <td>1.320000</td>\n",
       "      <td>2</td>\n",
       "      <td>2</td>\n",
       "      <td>2</td>\n",
       "      <td>6.031221</td>\n",
       "    </tr>\n",
       "    <tr>\n",
       "      <th>234</th>\n",
       "      <td>2016</td>\n",
       "      <td>Bhutan</td>\n",
       "      <td>5.1960</td>\n",
       "      <td>17.50</td>\n",
       "      <td>0.00</td>\n",
       "      <td>3.6</td>\n",
       "      <td>5.9</td>\n",
       "      <td>8200.0</td>\n",
       "      <td>27.50</td>\n",
       "      <td>-3.8</td>\n",
       "      <td>2.152823</td>\n",
       "      <td>0</td>\n",
       "      <td>2</td>\n",
       "      <td>0</td>\n",
       "      <td>5.238331</td>\n",
       "    </tr>\n",
       "    <tr>\n",
       "      <th>276</th>\n",
       "      <td>2016</td>\n",
       "      <td>Senegal</td>\n",
       "      <td>4.2190</td>\n",
       "      <td>34.00</td>\n",
       "      <td>-1.50</td>\n",
       "      <td>4.7</td>\n",
       "      <td>5.6</td>\n",
       "      <td>2500.0</td>\n",
       "      <td>25.10</td>\n",
       "      <td>-4.8</td>\n",
       "      <td>1.890000</td>\n",
       "      <td>0</td>\n",
       "      <td>2</td>\n",
       "      <td>0</td>\n",
       "      <td>4.286149</td>\n",
       "    </tr>\n",
       "  </tbody>\n",
       "</table>\n",
       "<p>268 rows × 15 columns</p>\n",
       "</div>"
      ],
      "text/plain": [
       "      annee    Country  Happiness Score  nativity  migration  health_expend  \\\n",
       "647    2019    Bahrain           6.1990     13.10      11.60            4.9   \n",
       "1272   2023     Russia           5.6610      9.22       1.70            7.6   \n",
       "880    2020     Jordan           4.6334     23.00     -11.30            8.1   \n",
       "957    2021     Poland           6.1660      8.69      -0.33            6.3   \n",
       "1209   2023     Norway           7.3150     11.89       3.89           11.4   \n",
       "...     ...        ...              ...       ...        ...            ...   \n",
       "385    2017  Venezuela           5.2500     18.80      -1.20            5.3   \n",
       "261    2016    Namibia           4.5740     27.90       0.00            8.9   \n",
       "485    2018     Brazil           6.4190     13.90      -0.10            8.3   \n",
       "234    2016     Bhutan           5.1960     17.50       0.00            3.6   \n",
       "276    2016    Senegal           4.2190     34.00      -1.50            4.7   \n",
       "\n",
       "      educ_expend      gdp  taxes  budget     milit  cluster_init  cluster3  \\\n",
       "647           2.3  49000.0  16.60   -10.1  3.600000             4         0   \n",
       "1272          3.7  28000.0  10.83    -1.4  5.400000             5         0   \n",
       "880           3.1   3291.0  23.60    -5.1  4.700000             0         2   \n",
       "957           4.6  32200.0  39.50    -1.7  2.200000             5         0   \n",
       "1209          5.9  65700.0  21.09     4.4  1.740000             1         1   \n",
       "...           ...      ...    ...     ...       ...           ...       ...   \n",
       "385           6.9  14000.0  34.40   -48.0  1.000000             2         2   \n",
       "261           8.3  11400.0  35.50    -5.5  4.200000             2         2   \n",
       "485           5.9  15600.0  35.70    -1.1  1.320000             2         2   \n",
       "234           5.9   8200.0  27.50    -3.8  2.152823             0         2   \n",
       "276           5.6   2500.0  25.10    -4.8  1.890000             0         2   \n",
       "\n",
       "      cluster6  predicted_score  \n",
       "647          4         6.467802  \n",
       "1272         5         5.842086  \n",
       "880          2         4.393599  \n",
       "957          5         6.123789  \n",
       "1209         1         7.573119  \n",
       "...        ...              ...  \n",
       "385          2         5.449699  \n",
       "261          0         4.372682  \n",
       "485          2         6.031221  \n",
       "234          0         5.238331  \n",
       "276          0         4.286149  \n",
       "\n",
       "[268 rows x 15 columns]"
      ]
     },
     "execution_count": 25,
     "metadata": {},
     "output_type": "execute_result"
    }
   ],
   "source": [
    "df_test['predicted_score'] = indice_predit\n",
    "# Sauvegarde du data frame des résultats de tests\n",
    "df_test.to_csv(\"data/resultats/test_pmc.csv\", sep=\";\", index=False) \n",
    "df_test"
   ]
  },
  {
   "cell_type": "markdown",
   "id": "f4e325af-249b-4907-af81-8599f44f061a",
   "metadata": {},
   "source": [
    "### Quelque tests avec des données fictives\n",
    "À titre comparatif, utilisation des même données fictives que dans le notebook **06_regression_lin**"
   ]
  },
  {
   "cell_type": "code",
   "execution_count": 27,
   "id": "a9c13e5c-5c4e-42c9-a579-a8678361f325",
   "metadata": {},
   "outputs": [
    {
     "data": {
      "text/html": [
       "<div>\n",
       "<style scoped>\n",
       "    .dataframe tbody tr th:only-of-type {\n",
       "        vertical-align: middle;\n",
       "    }\n",
       "\n",
       "    .dataframe tbody tr th {\n",
       "        vertical-align: top;\n",
       "    }\n",
       "\n",
       "    .dataframe thead th {\n",
       "        text-align: right;\n",
       "    }\n",
       "</style>\n",
       "<table border=\"1\" class=\"dataframe\">\n",
       "  <thead>\n",
       "    <tr style=\"text-align: right;\">\n",
       "      <th></th>\n",
       "      <th>nativity</th>\n",
       "      <th>health_expend</th>\n",
       "      <th>educ_expend</th>\n",
       "      <th>taxes</th>\n",
       "      <th>gdp</th>\n",
       "    </tr>\n",
       "  </thead>\n",
       "  <tbody>\n",
       "    <tr>\n",
       "      <th>0</th>\n",
       "      <td>13.3</td>\n",
       "      <td>6.6</td>\n",
       "      <td>3.30</td>\n",
       "      <td>16.9</td>\n",
       "      <td>14400</td>\n",
       "    </tr>\n",
       "    <tr>\n",
       "      <th>1</th>\n",
       "      <td>19.5</td>\n",
       "      <td>6.7</td>\n",
       "      <td>9.20</td>\n",
       "      <td>41.0</td>\n",
       "      <td>8200</td>\n",
       "    </tr>\n",
       "    <tr>\n",
       "      <th>2</th>\n",
       "      <td>24.2</td>\n",
       "      <td>8.8</td>\n",
       "      <td>10.10</td>\n",
       "      <td>32.0</td>\n",
       "      <td>9100</td>\n",
       "    </tr>\n",
       "    <tr>\n",
       "      <th>3</th>\n",
       "      <td>23.0</td>\n",
       "      <td>5.2</td>\n",
       "      <td>4.05</td>\n",
       "      <td>13.8</td>\n",
       "      <td>8300</td>\n",
       "    </tr>\n",
       "    <tr>\n",
       "      <th>4</th>\n",
       "      <td>7.9</td>\n",
       "      <td>9.1</td>\n",
       "      <td>4.10</td>\n",
       "      <td>14.1</td>\n",
       "      <td>42010</td>\n",
       "    </tr>\n",
       "  </tbody>\n",
       "</table>\n",
       "</div>"
      ],
      "text/plain": [
       "   nativity  health_expend  educ_expend  taxes    gdp\n",
       "0      13.3            6.6         3.30   16.9  14400\n",
       "1      19.5            6.7         9.20   41.0   8200\n",
       "2      24.2            8.8        10.10   32.0   9100\n",
       "3      23.0            5.2         4.05   13.8   8300\n",
       "4       7.9            9.1         4.10   14.1  42010"
      ]
     },
     "execution_count": 27,
     "metadata": {},
     "output_type": "execute_result"
    }
   ],
   "source": [
    "# Ensemble de test, cinq lignes de données fictives\n",
    "df_test5 = pd.DataFrame([[13.3, 6.6, 3.3, 16.9, 14400],\n",
    "                         [19.5, 6.7, 9.2, 41, 8200],                         \n",
    "                         [24.2, 8.8, 10.1, 32, 9100],\n",
    "                         [23, 5.2, 4.05, 13.8, 8300],\n",
    "                         [7.9, 9.1, 4.1, 14.1, 42010]], \n",
    "                        columns=[\"nativity\", \"health_expend\", \"educ_expend\", \"taxes\", \"gdp\"])\n",
    "df_test5"
   ]
  },
  {
   "cell_type": "markdown",
   "id": "b7bb349f-5a39-463e-aeca-edd33e341b78",
   "metadata": {},
   "source": [
    "Voici les indices de bonheurs prédits pour les données fictive ci-dessus."
   ]
  },
  {
   "cell_type": "code",
   "execution_count": 29,
   "id": "a3a27c89-70aa-47b7-ae67-0deed8780c0f",
   "metadata": {},
   "outputs": [
    {
     "data": {
      "text/plain": [
       "array([5.24943393, 5.00605336, 4.08976202, 5.08286563, 6.21155658])"
      ]
     },
     "execution_count": 29,
     "metadata": {},
     "output_type": "execute_result"
    }
   ],
   "source": [
    "entree_test5 = scaler.transform(df_test5) \n",
    "\n",
    "test5_results = regr.predict(entree_test5)\n",
    "test5_results"
   ]
  },
  {
   "cell_type": "markdown",
   "id": "61ee2bf8-2b30-413d-8b41-b8886f9e6b89",
   "metadata": {},
   "source": [
    "#### Comme point de comparaisons, le modèle de régression linéaire prédisait ces résultats pour les même données fictives en entrée:\n",
    "array([5.39162182, 5.53638813, 5.47342865, 4.85602985, 6.40364188])"
   ]
  },
  {
   "cell_type": "code",
   "execution_count": null,
   "id": "929f17bc-d036-42c5-a143-a94c267db4ae",
   "metadata": {},
   "outputs": [],
   "source": []
  }
 ],
 "metadata": {
  "kernelspec": {
   "display_name": "Python 3 (ipykernel)",
   "language": "python",
   "name": "python3"
  },
  "language_info": {
   "codemirror_mode": {
    "name": "ipython",
    "version": 3
   },
   "file_extension": ".py",
   "mimetype": "text/x-python",
   "name": "python",
   "nbconvert_exporter": "python",
   "pygments_lexer": "ipython3",
   "version": "3.8.6rc1"
  }
 },
 "nbformat": 4,
 "nbformat_minor": 5
}
