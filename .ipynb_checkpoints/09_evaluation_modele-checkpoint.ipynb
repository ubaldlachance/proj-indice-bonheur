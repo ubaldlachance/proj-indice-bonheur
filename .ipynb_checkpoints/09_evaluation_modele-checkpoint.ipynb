{
 "cells": [
  {
   "cell_type": "markdown",
   "id": "b74fcf6e-efdd-4267-adbb-75974a1ea804",
   "metadata": {},
   "source": [
    "# Évaluation comparatives des modèles"
   ]
  },
  {
   "cell_type": "markdown",
   "id": "62bded91-571b-4f5d-b766-56fb7aa93ad5",
   "metadata": {},
   "source": [
    "Ce notebook sert à comparer les performances des trois modèles que nous avons entraînés et testés dans les notebooks 06, 07 et 08.  \n",
    "\n",
    "Il lit en entrée les données des fichiers \"data/resultats/test_reg_lin.csv\", \"data/resultats/test_pmc.csv\" et \"data/resultats/test_rnd_forest.csv\".   \n",
    "Il produit en sortie le fichier \"data/resultats/test_merged.csv\" qui contient les résultats globaux des tests."
   ]
  },
  {
   "cell_type": "code",
   "execution_count": 2,
   "id": "07cf1801-6d9e-4f7b-8c5c-c1bca4a78d0e",
   "metadata": {},
   "outputs": [],
   "source": [
    "import pandas as pd\n",
    "import matplotlib.pyplot as plt\n",
    "from statistics import mean"
   ]
  },
  {
   "cell_type": "code",
   "execution_count": 3,
   "id": "4a074c2b-02e2-4da9-a643-ad7446ae8063",
   "metadata": {},
   "outputs": [],
   "source": [
    "df = pd.read_csv(\"data/resultats/test_reg_lin.csv\", sep=\";\") \n",
    "df_pmc = pd.read_csv(\"data/resultats/test_pmc.csv\", sep=\";\") \n",
    "df_rndf = pd.read_csv(\"data/resultats/test_rnd_forest.csv\", sep=\";\") "
   ]
  },
  {
   "cell_type": "code",
   "execution_count": 4,
   "id": "e1f01ee3-22bf-4b9f-a818-b5a9b468d7a4",
   "metadata": {},
   "outputs": [],
   "source": [
    "# renommage des colonnes de prédictions\n",
    "df = df.rename(columns={\"predicted_score\": \"pred_reg_lin\"})\n",
    "df_pmc = df_pmc.rename(columns={\"predicted_score\": \"pred_pmc\"})\n",
    "df_rndf = df_rndf.rename(columns={\"predicted_score\": \"pred_rnd_forest\"})"
   ]
  },
  {
   "cell_type": "code",
   "execution_count": 5,
   "id": "163b04f6-bba4-4f70-9fea-075d7c17100f",
   "metadata": {},
   "outputs": [],
   "source": [
    "# Regroupement des colonnes de prédiction dans le même data frame.\n",
    "df[\"pred_pmc\"] = df_pmc[\"pred_pmc\"]\n",
    "df[\"pred_rnd_forest\"] = df_rndf[\"pred_rnd_forest\"]\n",
    "\n",
    "# Supression de la colonne qui n'est plus utile.\n",
    "df = df.drop(columns='cluster_init')"
   ]
  },
  {
   "cell_type": "code",
   "execution_count": 6,
   "id": "24db5f7e-136f-4fb6-b57b-3c16bbab6a93",
   "metadata": {},
   "outputs": [
    {
     "data": {
      "text/html": [
       "<div>\n",
       "<style scoped>\n",
       "    .dataframe tbody tr th:only-of-type {\n",
       "        vertical-align: middle;\n",
       "    }\n",
       "\n",
       "    .dataframe tbody tr th {\n",
       "        vertical-align: top;\n",
       "    }\n",
       "\n",
       "    .dataframe thead th {\n",
       "        text-align: right;\n",
       "    }\n",
       "</style>\n",
       "<table border=\"1\" class=\"dataframe\">\n",
       "  <thead>\n",
       "    <tr style=\"text-align: right;\">\n",
       "      <th></th>\n",
       "      <th>annee</th>\n",
       "      <th>Country</th>\n",
       "      <th>Happiness Score</th>\n",
       "      <th>nativity</th>\n",
       "      <th>migration</th>\n",
       "      <th>health_expend</th>\n",
       "      <th>educ_expend</th>\n",
       "      <th>gdp</th>\n",
       "      <th>taxes</th>\n",
       "      <th>budget</th>\n",
       "      <th>milit</th>\n",
       "      <th>cluster3</th>\n",
       "      <th>cluster6</th>\n",
       "      <th>pred_reg_lin</th>\n",
       "      <th>pred_pmc</th>\n",
       "      <th>pred_rnd_forest</th>\n",
       "    </tr>\n",
       "  </thead>\n",
       "  <tbody>\n",
       "    <tr>\n",
       "      <th>0</th>\n",
       "      <td>2019</td>\n",
       "      <td>Bahrain</td>\n",
       "      <td>6.1990</td>\n",
       "      <td>13.10</td>\n",
       "      <td>11.60</td>\n",
       "      <td>4.9</td>\n",
       "      <td>2.3</td>\n",
       "      <td>49000.0</td>\n",
       "      <td>16.60</td>\n",
       "      <td>-10.1</td>\n",
       "      <td>3.600000</td>\n",
       "      <td>0</td>\n",
       "      <td>4</td>\n",
       "      <td>6.102281</td>\n",
       "      <td>6.467802</td>\n",
       "      <td>6.159557</td>\n",
       "    </tr>\n",
       "    <tr>\n",
       "      <th>1</th>\n",
       "      <td>2023</td>\n",
       "      <td>Russia</td>\n",
       "      <td>5.6610</td>\n",
       "      <td>9.22</td>\n",
       "      <td>1.70</td>\n",
       "      <td>7.6</td>\n",
       "      <td>3.7</td>\n",
       "      <td>28000.0</td>\n",
       "      <td>10.83</td>\n",
       "      <td>-1.4</td>\n",
       "      <td>5.400000</td>\n",
       "      <td>0</td>\n",
       "      <td>5</td>\n",
       "      <td>5.917161</td>\n",
       "      <td>5.842086</td>\n",
       "      <td>5.941517</td>\n",
       "    </tr>\n",
       "    <tr>\n",
       "      <th>2</th>\n",
       "      <td>2020</td>\n",
       "      <td>Jordan</td>\n",
       "      <td>4.6334</td>\n",
       "      <td>23.00</td>\n",
       "      <td>-11.30</td>\n",
       "      <td>8.1</td>\n",
       "      <td>3.1</td>\n",
       "      <td>3291.0</td>\n",
       "      <td>23.60</td>\n",
       "      <td>-5.1</td>\n",
       "      <td>4.700000</td>\n",
       "      <td>2</td>\n",
       "      <td>2</td>\n",
       "      <td>4.811708</td>\n",
       "      <td>4.393599</td>\n",
       "      <td>3.859309</td>\n",
       "    </tr>\n",
       "    <tr>\n",
       "      <th>3</th>\n",
       "      <td>2021</td>\n",
       "      <td>Poland</td>\n",
       "      <td>6.1660</td>\n",
       "      <td>8.69</td>\n",
       "      <td>-0.33</td>\n",
       "      <td>6.3</td>\n",
       "      <td>4.6</td>\n",
       "      <td>32200.0</td>\n",
       "      <td>39.50</td>\n",
       "      <td>-1.7</td>\n",
       "      <td>2.200000</td>\n",
       "      <td>0</td>\n",
       "      <td>5</td>\n",
       "      <td>6.185825</td>\n",
       "      <td>6.123789</td>\n",
       "      <td>6.189483</td>\n",
       "    </tr>\n",
       "    <tr>\n",
       "      <th>4</th>\n",
       "      <td>2023</td>\n",
       "      <td>Norway</td>\n",
       "      <td>7.3150</td>\n",
       "      <td>11.89</td>\n",
       "      <td>3.89</td>\n",
       "      <td>11.4</td>\n",
       "      <td>5.9</td>\n",
       "      <td>65700.0</td>\n",
       "      <td>21.09</td>\n",
       "      <td>4.4</td>\n",
       "      <td>1.740000</td>\n",
       "      <td>1</td>\n",
       "      <td>1</td>\n",
       "      <td>7.062323</td>\n",
       "      <td>7.573119</td>\n",
       "      <td>7.127334</td>\n",
       "    </tr>\n",
       "    <tr>\n",
       "      <th>...</th>\n",
       "      <td>...</td>\n",
       "      <td>...</td>\n",
       "      <td>...</td>\n",
       "      <td>...</td>\n",
       "      <td>...</td>\n",
       "      <td>...</td>\n",
       "      <td>...</td>\n",
       "      <td>...</td>\n",
       "      <td>...</td>\n",
       "      <td>...</td>\n",
       "      <td>...</td>\n",
       "      <td>...</td>\n",
       "      <td>...</td>\n",
       "      <td>...</td>\n",
       "      <td>...</td>\n",
       "      <td>...</td>\n",
       "    </tr>\n",
       "    <tr>\n",
       "      <th>263</th>\n",
       "      <td>2017</td>\n",
       "      <td>Venezuela</td>\n",
       "      <td>5.2500</td>\n",
       "      <td>18.80</td>\n",
       "      <td>-1.20</td>\n",
       "      <td>5.3</td>\n",
       "      <td>6.9</td>\n",
       "      <td>14000.0</td>\n",
       "      <td>34.40</td>\n",
       "      <td>-48.0</td>\n",
       "      <td>1.000000</td>\n",
       "      <td>2</td>\n",
       "      <td>2</td>\n",
       "      <td>5.459064</td>\n",
       "      <td>5.449699</td>\n",
       "      <td>5.573255</td>\n",
       "    </tr>\n",
       "    <tr>\n",
       "      <th>264</th>\n",
       "      <td>2016</td>\n",
       "      <td>Namibia</td>\n",
       "      <td>4.5740</td>\n",
       "      <td>27.90</td>\n",
       "      <td>0.00</td>\n",
       "      <td>8.9</td>\n",
       "      <td>8.3</td>\n",
       "      <td>11400.0</td>\n",
       "      <td>35.50</td>\n",
       "      <td>-5.5</td>\n",
       "      <td>4.200000</td>\n",
       "      <td>2</td>\n",
       "      <td>0</td>\n",
       "      <td>5.273118</td>\n",
       "      <td>4.372682</td>\n",
       "      <td>4.562659</td>\n",
       "    </tr>\n",
       "    <tr>\n",
       "      <th>265</th>\n",
       "      <td>2018</td>\n",
       "      <td>Brazil</td>\n",
       "      <td>6.4190</td>\n",
       "      <td>13.90</td>\n",
       "      <td>-0.10</td>\n",
       "      <td>8.3</td>\n",
       "      <td>5.9</td>\n",
       "      <td>15600.0</td>\n",
       "      <td>35.70</td>\n",
       "      <td>-1.1</td>\n",
       "      <td>1.320000</td>\n",
       "      <td>2</td>\n",
       "      <td>2</td>\n",
       "      <td>5.728380</td>\n",
       "      <td>6.031221</td>\n",
       "      <td>6.334489</td>\n",
       "    </tr>\n",
       "    <tr>\n",
       "      <th>266</th>\n",
       "      <td>2016</td>\n",
       "      <td>Bhutan</td>\n",
       "      <td>5.1960</td>\n",
       "      <td>17.50</td>\n",
       "      <td>0.00</td>\n",
       "      <td>3.6</td>\n",
       "      <td>5.9</td>\n",
       "      <td>8200.0</td>\n",
       "      <td>27.50</td>\n",
       "      <td>-3.8</td>\n",
       "      <td>2.152823</td>\n",
       "      <td>2</td>\n",
       "      <td>0</td>\n",
       "      <td>5.206978</td>\n",
       "      <td>5.238331</td>\n",
       "      <td>5.445467</td>\n",
       "    </tr>\n",
       "    <tr>\n",
       "      <th>267</th>\n",
       "      <td>2016</td>\n",
       "      <td>Senegal</td>\n",
       "      <td>4.2190</td>\n",
       "      <td>34.00</td>\n",
       "      <td>-1.50</td>\n",
       "      <td>4.7</td>\n",
       "      <td>5.6</td>\n",
       "      <td>2500.0</td>\n",
       "      <td>25.10</td>\n",
       "      <td>-4.8</td>\n",
       "      <td>1.890000</td>\n",
       "      <td>2</td>\n",
       "      <td>0</td>\n",
       "      <td>4.430199</td>\n",
       "      <td>4.286149</td>\n",
       "      <td>3.908814</td>\n",
       "    </tr>\n",
       "  </tbody>\n",
       "</table>\n",
       "<p>268 rows × 16 columns</p>\n",
       "</div>"
      ],
      "text/plain": [
       "     annee    Country  Happiness Score  nativity  migration  health_expend  \\\n",
       "0     2019    Bahrain           6.1990     13.10      11.60            4.9   \n",
       "1     2023     Russia           5.6610      9.22       1.70            7.6   \n",
       "2     2020     Jordan           4.6334     23.00     -11.30            8.1   \n",
       "3     2021     Poland           6.1660      8.69      -0.33            6.3   \n",
       "4     2023     Norway           7.3150     11.89       3.89           11.4   \n",
       "..     ...        ...              ...       ...        ...            ...   \n",
       "263   2017  Venezuela           5.2500     18.80      -1.20            5.3   \n",
       "264   2016    Namibia           4.5740     27.90       0.00            8.9   \n",
       "265   2018     Brazil           6.4190     13.90      -0.10            8.3   \n",
       "266   2016     Bhutan           5.1960     17.50       0.00            3.6   \n",
       "267   2016    Senegal           4.2190     34.00      -1.50            4.7   \n",
       "\n",
       "     educ_expend      gdp  taxes  budget     milit  cluster3  cluster6  \\\n",
       "0            2.3  49000.0  16.60   -10.1  3.600000         0         4   \n",
       "1            3.7  28000.0  10.83    -1.4  5.400000         0         5   \n",
       "2            3.1   3291.0  23.60    -5.1  4.700000         2         2   \n",
       "3            4.6  32200.0  39.50    -1.7  2.200000         0         5   \n",
       "4            5.9  65700.0  21.09     4.4  1.740000         1         1   \n",
       "..           ...      ...    ...     ...       ...       ...       ...   \n",
       "263          6.9  14000.0  34.40   -48.0  1.000000         2         2   \n",
       "264          8.3  11400.0  35.50    -5.5  4.200000         2         0   \n",
       "265          5.9  15600.0  35.70    -1.1  1.320000         2         2   \n",
       "266          5.9   8200.0  27.50    -3.8  2.152823         2         0   \n",
       "267          5.6   2500.0  25.10    -4.8  1.890000         2         0   \n",
       "\n",
       "     pred_reg_lin  pred_pmc  pred_rnd_forest  \n",
       "0        6.102281  6.467802         6.159557  \n",
       "1        5.917161  5.842086         5.941517  \n",
       "2        4.811708  4.393599         3.859309  \n",
       "3        6.185825  6.123789         6.189483  \n",
       "4        7.062323  7.573119         7.127334  \n",
       "..            ...       ...              ...  \n",
       "263      5.459064  5.449699         5.573255  \n",
       "264      5.273118  4.372682         4.562659  \n",
       "265      5.728380  6.031221         6.334489  \n",
       "266      5.206978  5.238331         5.445467  \n",
       "267      4.430199  4.286149         3.908814  \n",
       "\n",
       "[268 rows x 16 columns]"
      ]
     },
     "execution_count": 6,
     "metadata": {},
     "output_type": "execute_result"
    }
   ],
   "source": [
    "df"
   ]
  },
  {
   "cell_type": "markdown",
   "id": "f63ce15d-ed24-4f63-8086-cac7dadc8822",
   "metadata": {},
   "source": [
    "## Calcul manuel des R<sup>2</sup> pour les trois modèles"
   ]
  },
  {
   "cell_type": "markdown",
   "id": "698a02ae-41b1-49b1-a164-96b6da135447",
   "metadata": {},
   "source": [
    "#### Pour la régression linéaire"
   ]
  },
  {
   "cell_type": "code",
   "execution_count": 7,
   "id": "b89f8bd3-4c51-4889-9453-756462e6e345",
   "metadata": {},
   "outputs": [
    {
     "data": {
      "text/plain": [
       "0.6199348783264008"
      ]
     },
     "execution_count": 7,
     "metadata": {},
     "output_type": "execute_result"
    }
   ],
   "source": [
    "u = sum((df[\"Happiness Score\"] - df.pred_reg_lin)**2)\n",
    "v = sum((df[\"Happiness Score\"] - mean(df.pred_reg_lin))**2)\n",
    "1 - u/v"
   ]
  },
  {
   "cell_type": "markdown",
   "id": "4cded2c2-d206-4ab5-80bf-c4ad9ebdc401",
   "metadata": {},
   "source": [
    "#### Pour le perceptron multicouches"
   ]
  },
  {
   "cell_type": "code",
   "execution_count": 8,
   "id": "5933b028-68a0-43ad-8403-736844728792",
   "metadata": {},
   "outputs": [
    {
     "data": {
      "text/plain": [
       "0.779694191183545"
      ]
     },
     "execution_count": 8,
     "metadata": {},
     "output_type": "execute_result"
    }
   ],
   "source": [
    "u = sum((df[\"Happiness Score\"] - df.pred_pmc)**2)\n",
    "v = sum((df[\"Happiness Score\"] - mean(df.pred_pmc))**2)\n",
    "1 - u/v"
   ]
  },
  {
   "cell_type": "markdown",
   "id": "789f5d44-c8f4-4656-9b90-3bfe9a9d2734",
   "metadata": {},
   "source": [
    "#### Pour la forest aléatoire"
   ]
  },
  {
   "cell_type": "code",
   "execution_count": 9,
   "id": "60eba8ac-76ad-457e-85ec-45e3ff521242",
   "metadata": {},
   "outputs": [
    {
     "data": {
      "text/plain": [
       "0.8847690572468936"
      ]
     },
     "execution_count": 9,
     "metadata": {},
     "output_type": "execute_result"
    }
   ],
   "source": [
    "u = sum((df[\"Happiness Score\"] - df.pred_rnd_forest)**2)\n",
    "v = sum((df[\"Happiness Score\"] - mean(df.pred_rnd_forest))**2)\n",
    "1 - u/v"
   ]
  },
  {
   "cell_type": "markdown",
   "id": "57c04130-06ac-458a-a705-1c137141dd80",
   "metadata": {},
   "source": [
    "Globalement, c'est la forêt aléatoire qui offre les meilleures performances."
   ]
  },
  {
   "cell_type": "markdown",
   "id": "c5c58ce1-be3d-47ee-9882-34fd02b51008",
   "metadata": {},
   "source": [
    "### Graphique comparatif des résidus"
   ]
  },
  {
   "cell_type": "code",
   "execution_count": 27,
   "id": "a4a4027a-229b-4896-b97f-438582ba18eb",
   "metadata": {},
   "outputs": [
    {
     "data": {
      "image/png": "[encoded data removed]",
      "text/plain": [
       "<Figure size 640x480 with 1 Axes>"
      ]
     },
     "metadata": {},
     "output_type": "display_data"
    }
   ],
   "source": [
    "res_rl = abs(df[\"Happiness Score\"] - df.pred_reg_lin).sort_values(ignore_index=True)\n",
    "res_pmc = abs(df[\"Happiness Score\"] - df.pred_pmc).sort_values(ignore_index=True)\n",
    "res_rndf = abs(df[\"Happiness Score\"] - df.pred_rnd_forest).sort_values(ignore_index=True)\n",
    "\n",
    "fig, ax = plt.subplots()\n",
    "\n",
    "plt.plot(res_pmc.index ,res_pmc)\n",
    "plt.plot(res_rndf.index ,res_rndf)\n",
    "plt.plot(res_rl.index ,res_rl)\n",
    "plt.xlabel(\"Observations\")\n",
    "plt.ylabel(\"Résidus\")\n",
    "\n",
    "ax.set_title(\"Évolution ascendente des résidus par modèle\")\n",
    "ax.legend([\"PMC\",\"Forêt aléatoire\",\"Régression linéaire\"], loc=\"upper left\", title=\"Modèle\")\n",
    "\n",
    "plt.show()"
   ]
  },
  {
   "cell_type": "markdown",
   "id": "72313602-45ba-49ae-8a71-e3b5c7ffb8d6",
   "metadata": {},
   "source": [
    "On voit bien que le modèle forêt aléatoire donne des résidus plus bas. Ce qui indique globalement une meilleure performance."
   ]
  },
  {
   "cell_type": "markdown",
   "id": "ecc31ef0-0a43-422f-8109-efd3a5d79f4e",
   "metadata": {},
   "source": [
    "### Identification du meilleur modèle pour chaque ligne de l'ensemble de tests."
   ]
  },
  {
   "cell_type": "code",
   "execution_count": 10,
   "id": "9d4fc650-f693-440d-9826-10898a95012b",
   "metadata": {},
   "outputs": [],
   "source": [
    "def determin_best_model(li):\n",
    "    d_rndf = abs(li[\"Happiness Score\"] - li.pred_rnd_forest)\n",
    "    d_rl = abs(li[\"Happiness Score\"] - li.pred_reg_lin)\n",
    "    d_pmc = abs(li[\"Happiness Score\"] - li.pred_pmc)\n",
    "    min_d = min(d_rndf, d_rl, d_pmc)\n",
    "    if min_d == d_rndf:\n",
    "        return(\"random forest\")\n",
    "    if min_d == d_rl:\n",
    "        return(\"regression lineaire\")\n",
    "    else:\n",
    "        return(\"pmc\")"
   ]
  },
  {
   "cell_type": "code",
   "execution_count": 11,
   "id": "6bb56bc7-586f-4e54-a95b-c1487428f504",
   "metadata": {},
   "outputs": [],
   "source": [
    "df[\"Meilleur_modele\"] = df.apply(determin_best_model, axis=1)"
   ]
  },
  {
   "cell_type": "code",
   "execution_count": 12,
   "id": "d9e305a8-41cb-4bd5-822f-47a3a13d72f5",
   "metadata": {},
   "outputs": [
    {
     "data": {
      "text/html": [
       "<div>\n",
       "<style scoped>\n",
       "    .dataframe tbody tr th:only-of-type {\n",
       "        vertical-align: middle;\n",
       "    }\n",
       "\n",
       "    .dataframe tbody tr th {\n",
       "        vertical-align: top;\n",
       "    }\n",
       "\n",
       "    .dataframe thead th {\n",
       "        text-align: right;\n",
       "    }\n",
       "</style>\n",
       "<table border=\"1\" class=\"dataframe\">\n",
       "  <thead>\n",
       "    <tr style=\"text-align: right;\">\n",
       "      <th></th>\n",
       "      <th>annee</th>\n",
       "      <th>Country</th>\n",
       "      <th>Happiness Score</th>\n",
       "      <th>nativity</th>\n",
       "      <th>migration</th>\n",
       "      <th>health_expend</th>\n",
       "      <th>educ_expend</th>\n",
       "      <th>gdp</th>\n",
       "      <th>taxes</th>\n",
       "      <th>budget</th>\n",
       "      <th>milit</th>\n",
       "      <th>cluster3</th>\n",
       "      <th>cluster6</th>\n",
       "      <th>pred_reg_lin</th>\n",
       "      <th>pred_pmc</th>\n",
       "      <th>pred_rnd_forest</th>\n",
       "      <th>Meilleur_modele</th>\n",
       "    </tr>\n",
       "  </thead>\n",
       "  <tbody>\n",
       "    <tr>\n",
       "      <th>0</th>\n",
       "      <td>2019</td>\n",
       "      <td>Bahrain</td>\n",
       "      <td>6.1990</td>\n",
       "      <td>13.10</td>\n",
       "      <td>11.60</td>\n",
       "      <td>4.9</td>\n",
       "      <td>2.3</td>\n",
       "      <td>49000.0</td>\n",
       "      <td>16.60</td>\n",
       "      <td>-10.1</td>\n",
       "      <td>3.600000</td>\n",
       "      <td>0</td>\n",
       "      <td>4</td>\n",
       "      <td>6.102281</td>\n",
       "      <td>6.467802</td>\n",
       "      <td>6.159557</td>\n",
       "      <td>random forest</td>\n",
       "    </tr>\n",
       "    <tr>\n",
       "      <th>1</th>\n",
       "      <td>2023</td>\n",
       "      <td>Russia</td>\n",
       "      <td>5.6610</td>\n",
       "      <td>9.22</td>\n",
       "      <td>1.70</td>\n",
       "      <td>7.6</td>\n",
       "      <td>3.7</td>\n",
       "      <td>28000.0</td>\n",
       "      <td>10.83</td>\n",
       "      <td>-1.4</td>\n",
       "      <td>5.400000</td>\n",
       "      <td>0</td>\n",
       "      <td>5</td>\n",
       "      <td>5.917161</td>\n",
       "      <td>5.842086</td>\n",
       "      <td>5.941517</td>\n",
       "      <td>pmc</td>\n",
       "    </tr>\n",
       "    <tr>\n",
       "      <th>2</th>\n",
       "      <td>2020</td>\n",
       "      <td>Jordan</td>\n",
       "      <td>4.6334</td>\n",
       "      <td>23.00</td>\n",
       "      <td>-11.30</td>\n",
       "      <td>8.1</td>\n",
       "      <td>3.1</td>\n",
       "      <td>3291.0</td>\n",
       "      <td>23.60</td>\n",
       "      <td>-5.1</td>\n",
       "      <td>4.700000</td>\n",
       "      <td>2</td>\n",
       "      <td>2</td>\n",
       "      <td>4.811708</td>\n",
       "      <td>4.393599</td>\n",
       "      <td>3.859309</td>\n",
       "      <td>regression lineaire</td>\n",
       "    </tr>\n",
       "    <tr>\n",
       "      <th>3</th>\n",
       "      <td>2021</td>\n",
       "      <td>Poland</td>\n",
       "      <td>6.1660</td>\n",
       "      <td>8.69</td>\n",
       "      <td>-0.33</td>\n",
       "      <td>6.3</td>\n",
       "      <td>4.6</td>\n",
       "      <td>32200.0</td>\n",
       "      <td>39.50</td>\n",
       "      <td>-1.7</td>\n",
       "      <td>2.200000</td>\n",
       "      <td>0</td>\n",
       "      <td>5</td>\n",
       "      <td>6.185825</td>\n",
       "      <td>6.123789</td>\n",
       "      <td>6.189483</td>\n",
       "      <td>regression lineaire</td>\n",
       "    </tr>\n",
       "    <tr>\n",
       "      <th>4</th>\n",
       "      <td>2023</td>\n",
       "      <td>Norway</td>\n",
       "      <td>7.3150</td>\n",
       "      <td>11.89</td>\n",
       "      <td>3.89</td>\n",
       "      <td>11.4</td>\n",
       "      <td>5.9</td>\n",
       "      <td>65700.0</td>\n",
       "      <td>21.09</td>\n",
       "      <td>4.4</td>\n",
       "      <td>1.740000</td>\n",
       "      <td>1</td>\n",
       "      <td>1</td>\n",
       "      <td>7.062323</td>\n",
       "      <td>7.573119</td>\n",
       "      <td>7.127334</td>\n",
       "      <td>random forest</td>\n",
       "    </tr>\n",
       "    <tr>\n",
       "      <th>...</th>\n",
       "      <td>...</td>\n",
       "      <td>...</td>\n",
       "      <td>...</td>\n",
       "      <td>...</td>\n",
       "      <td>...</td>\n",
       "      <td>...</td>\n",
       "      <td>...</td>\n",
       "      <td>...</td>\n",
       "      <td>...</td>\n",
       "      <td>...</td>\n",
       "      <td>...</td>\n",
       "      <td>...</td>\n",
       "      <td>...</td>\n",
       "      <td>...</td>\n",
       "      <td>...</td>\n",
       "      <td>...</td>\n",
       "      <td>...</td>\n",
       "    </tr>\n",
       "    <tr>\n",
       "      <th>263</th>\n",
       "      <td>2017</td>\n",
       "      <td>Venezuela</td>\n",
       "      <td>5.2500</td>\n",
       "      <td>18.80</td>\n",
       "      <td>-1.20</td>\n",
       "      <td>5.3</td>\n",
       "      <td>6.9</td>\n",
       "      <td>14000.0</td>\n",
       "      <td>34.40</td>\n",
       "      <td>-48.0</td>\n",
       "      <td>1.000000</td>\n",
       "      <td>2</td>\n",
       "      <td>2</td>\n",
       "      <td>5.459064</td>\n",
       "      <td>5.449699</td>\n",
       "      <td>5.573255</td>\n",
       "      <td>pmc</td>\n",
       "    </tr>\n",
       "    <tr>\n",
       "      <th>264</th>\n",
       "      <td>2016</td>\n",
       "      <td>Namibia</td>\n",
       "      <td>4.5740</td>\n",
       "      <td>27.90</td>\n",
       "      <td>0.00</td>\n",
       "      <td>8.9</td>\n",
       "      <td>8.3</td>\n",
       "      <td>11400.0</td>\n",
       "      <td>35.50</td>\n",
       "      <td>-5.5</td>\n",
       "      <td>4.200000</td>\n",
       "      <td>2</td>\n",
       "      <td>0</td>\n",
       "      <td>5.273118</td>\n",
       "      <td>4.372682</td>\n",
       "      <td>4.562659</td>\n",
       "      <td>random forest</td>\n",
       "    </tr>\n",
       "    <tr>\n",
       "      <th>265</th>\n",
       "      <td>2018</td>\n",
       "      <td>Brazil</td>\n",
       "      <td>6.4190</td>\n",
       "      <td>13.90</td>\n",
       "      <td>-0.10</td>\n",
       "      <td>8.3</td>\n",
       "      <td>5.9</td>\n",
       "      <td>15600.0</td>\n",
       "      <td>35.70</td>\n",
       "      <td>-1.1</td>\n",
       "      <td>1.320000</td>\n",
       "      <td>2</td>\n",
       "      <td>2</td>\n",
       "      <td>5.728380</td>\n",
       "      <td>6.031221</td>\n",
       "      <td>6.334489</td>\n",
       "      <td>random forest</td>\n",
       "    </tr>\n",
       "    <tr>\n",
       "      <th>266</th>\n",
       "      <td>2016</td>\n",
       "      <td>Bhutan</td>\n",
       "      <td>5.1960</td>\n",
       "      <td>17.50</td>\n",
       "      <td>0.00</td>\n",
       "      <td>3.6</td>\n",
       "      <td>5.9</td>\n",
       "      <td>8200.0</td>\n",
       "      <td>27.50</td>\n",
       "      <td>-3.8</td>\n",
       "      <td>2.152823</td>\n",
       "      <td>2</td>\n",
       "      <td>0</td>\n",
       "      <td>5.206978</td>\n",
       "      <td>5.238331</td>\n",
       "      <td>5.445467</td>\n",
       "      <td>regression lineaire</td>\n",
       "    </tr>\n",
       "    <tr>\n",
       "      <th>267</th>\n",
       "      <td>2016</td>\n",
       "      <td>Senegal</td>\n",
       "      <td>4.2190</td>\n",
       "      <td>34.00</td>\n",
       "      <td>-1.50</td>\n",
       "      <td>4.7</td>\n",
       "      <td>5.6</td>\n",
       "      <td>2500.0</td>\n",
       "      <td>25.10</td>\n",
       "      <td>-4.8</td>\n",
       "      <td>1.890000</td>\n",
       "      <td>2</td>\n",
       "      <td>0</td>\n",
       "      <td>4.430199</td>\n",
       "      <td>4.286149</td>\n",
       "      <td>3.908814</td>\n",
       "      <td>pmc</td>\n",
       "    </tr>\n",
       "  </tbody>\n",
       "</table>\n",
       "<p>268 rows × 17 columns</p>\n",
       "</div>"
      ],
      "text/plain": [
       "     annee    Country  Happiness Score  nativity  migration  health_expend  \\\n",
       "0     2019    Bahrain           6.1990     13.10      11.60            4.9   \n",
       "1     2023     Russia           5.6610      9.22       1.70            7.6   \n",
       "2     2020     Jordan           4.6334     23.00     -11.30            8.1   \n",
       "3     2021     Poland           6.1660      8.69      -0.33            6.3   \n",
       "4     2023     Norway           7.3150     11.89       3.89           11.4   \n",
       "..     ...        ...              ...       ...        ...            ...   \n",
       "263   2017  Venezuela           5.2500     18.80      -1.20            5.3   \n",
       "264   2016    Namibia           4.5740     27.90       0.00            8.9   \n",
       "265   2018     Brazil           6.4190     13.90      -0.10            8.3   \n",
       "266   2016     Bhutan           5.1960     17.50       0.00            3.6   \n",
       "267   2016    Senegal           4.2190     34.00      -1.50            4.7   \n",
       "\n",
       "     educ_expend      gdp  taxes  budget     milit  cluster3  cluster6  \\\n",
       "0            2.3  49000.0  16.60   -10.1  3.600000         0         4   \n",
       "1            3.7  28000.0  10.83    -1.4  5.400000         0         5   \n",
       "2            3.1   3291.0  23.60    -5.1  4.700000         2         2   \n",
       "3            4.6  32200.0  39.50    -1.7  2.200000         0         5   \n",
       "4            5.9  65700.0  21.09     4.4  1.740000         1         1   \n",
       "..           ...      ...    ...     ...       ...       ...       ...   \n",
       "263          6.9  14000.0  34.40   -48.0  1.000000         2         2   \n",
       "264          8.3  11400.0  35.50    -5.5  4.200000         2         0   \n",
       "265          5.9  15600.0  35.70    -1.1  1.320000         2         2   \n",
       "266          5.9   8200.0  27.50    -3.8  2.152823         2         0   \n",
       "267          5.6   2500.0  25.10    -4.8  1.890000         2         0   \n",
       "\n",
       "     pred_reg_lin  pred_pmc  pred_rnd_forest      Meilleur_modele  \n",
       "0        6.102281  6.467802         6.159557        random forest  \n",
       "1        5.917161  5.842086         5.941517                  pmc  \n",
       "2        4.811708  4.393599         3.859309  regression lineaire  \n",
       "3        6.185825  6.123789         6.189483  regression lineaire  \n",
       "4        7.062323  7.573119         7.127334        random forest  \n",
       "..            ...       ...              ...                  ...  \n",
       "263      5.459064  5.449699         5.573255                  pmc  \n",
       "264      5.273118  4.372682         4.562659        random forest  \n",
       "265      5.728380  6.031221         6.334489        random forest  \n",
       "266      5.206978  5.238331         5.445467  regression lineaire  \n",
       "267      4.430199  4.286149         3.908814                  pmc  \n",
       "\n",
       "[268 rows x 17 columns]"
      ]
     },
     "execution_count": 12,
     "metadata": {},
     "output_type": "execute_result"
    }
   ],
   "source": [
    "df"
   ]
  },
  {
   "cell_type": "markdown",
   "id": "8dae7a8e-40eb-4e30-9446-1a49989ce027",
   "metadata": {},
   "source": [
    "## Sauvegarde du fichier contenant la concaténation des résultats"
   ]
  },
  {
   "cell_type": "code",
   "execution_count": 13,
   "id": "a8d9b741-99f3-462c-8f50-3759b8e50cc5",
   "metadata": {},
   "outputs": [],
   "source": [
    "# Sauvegarde du data frame des résultats de tests\n",
    "df.to_csv(\"data/resultats/test_merged.csv\", sep=\";\", index=False) "
   ]
  },
  {
   "cell_type": "markdown",
   "id": "9893edde-d64f-48aa-91b7-acf992ce42c0",
   "metadata": {},
   "source": [
    "## Décompte des meilleurs modèles\n",
    "Dans cette section, nous allons comparer le nombre de lignes du jeu de tests selon son meilleur modèle associé."
   ]
  },
  {
   "cell_type": "code",
   "execution_count": 82,
   "id": "40752d75-f91c-469d-96c7-b8ec7650c137",
   "metadata": {},
   "outputs": [],
   "source": [
    "cpts = df.groupby(\"Meilleur_modele\")[\"Meilleur_modele\"].count()"
   ]
  },
  {
   "cell_type": "code",
   "execution_count": 86,
   "id": "b3ef5c13-5fd8-46f1-b178-db1280b325fa",
   "metadata": {},
   "outputs": [
    {
     "data": {
      "text/plain": [
       "Meilleur_modele\n",
       "pmc                     60\n",
       "random forest          151\n",
       "regression lineaire     57\n",
       "Name: Meilleur_modele, dtype: int64"
      ]
     },
     "execution_count": 86,
     "metadata": {},
     "output_type": "execute_result"
    }
   ],
   "source": [
    "cpts"
   ]
  },
  {
   "cell_type": "markdown",
   "id": "a73220e7-14dd-4d6c-93ec-aa477f76454a",
   "metadata": {},
   "source": [
    "### Diagramme global"
   ]
  },
  {
   "cell_type": "code",
   "execution_count": 87,
   "id": "341fbf1c-7885-4fbe-ba9d-57f48fc9e3fa",
   "metadata": {},
   "outputs": [
    {
     "data": {
      "image/png": "[encoded data removed]",
      "text/plain": [
       "<Figure size 640x480 with 1 Axes>"
      ]
     },
     "metadata": {},
     "output_type": "display_data"
    }
   ],
   "source": [
    "fig, ax = plt.subplots()\n",
    "\n",
    "for i in range(len(cpts)):\n",
    "    p = ax.bar(cpts.index[i], cpts[i], 0.5)\n",
    "\n",
    "ax.set_title(\"Décompte meilleur modèle\")\n",
    "\n",
    "plt.show()"
   ]
  },
  {
   "cell_type": "markdown",
   "id": "5959a6f7-36e9-40a2-90ce-6d5bf719588e",
   "metadata": {},
   "source": [
    "### Par regroupement, avec k=3 regroupements"
   ]
  },
  {
   "cell_type": "code",
   "execution_count": 100,
   "id": "001a6899-5a43-4f15-94a4-d5499ff7ee3c",
   "metadata": {},
   "outputs": [],
   "source": [
    "cpts = df.groupby([\"cluster3\", \"Meilleur_modele\"])[\"Meilleur_modele\"].count()"
   ]
  },
  {
   "cell_type": "code",
   "execution_count": 120,
   "id": "556f06ae-76e6-427f-8073-a9ca8baa6889",
   "metadata": {},
   "outputs": [
    {
     "data": {
      "text/plain": [
       "cluster3  Meilleur_modele    \n",
       "0         pmc                     18\n",
       "          random forest           33\n",
       "          regression lineaire     19\n",
       "1         pmc                      4\n",
       "          random forest            7\n",
       "          regression lineaire      2\n",
       "2         pmc                     38\n",
       "          random forest          111\n",
       "          regression lineaire     36\n",
       "Name: Meilleur_modele, dtype: int64"
      ]
     },
     "execution_count": 120,
     "metadata": {},
     "output_type": "execute_result"
    }
   ],
   "source": [
    "cpts"
   ]
  },
  {
   "cell_type": "code",
   "execution_count": 118,
   "id": "f2f27ac2-985b-4e80-bfef-1e71474365c4",
   "metadata": {},
   "outputs": [
    {
     "data": {
      "image/png": "[encoded data removed]",
      "text/plain": [
       "<Figure size 640x480 with 1 Axes>"
      ]
     },
     "metadata": {},
     "output_type": "display_data"
    }
   ],
   "source": [
    "fig, ax = plt.subplots()\n",
    "\n",
    "ax.bar(cpts[0,].index, cpts[0,], color='r', width=0.5)\n",
    "ax.bar(cpts[0,].index, cpts[1,], bottom=cpts[0,], color='g', width=0.5)\n",
    "ax.bar(cpts[0,].index, cpts[2,], bottom=cpts[1,]+cpts[0,], color='b', width=0.5)\n",
    "ax.set_title(\"Décompte meilleur modèle\")\n",
    "ax.legend([0,1,2], loc=\"upper right\", title=\"Regroupement\")\n",
    "plt.show()"
   ]
  },
  {
   "cell_type": "markdown",
   "id": "7e7e83ac-e1d9-4cb0-9543-1fb34d3e21c5",
   "metadata": {},
   "source": [
    "### Par regroupement, avec k=6 regroupements"
   ]
  },
  {
   "cell_type": "code",
   "execution_count": 137,
   "id": "f7717611-7c19-4b56-bd28-77020d94a280",
   "metadata": {},
   "outputs": [],
   "source": [
    "cpts = df.groupby([pd.Categorical(df.cluster6), pd.Categorical(df.Meilleur_modele)])[\"Meilleur_modele\"].count().fillna(0)"
   ]
  },
  {
   "cell_type": "code",
   "execution_count": 139,
   "id": "1407d9fe-0760-4132-9395-2152cf688e26",
   "metadata": {},
   "outputs": [
    {
     "data": {
      "text/plain": [
       "0  pmc                    22\n",
       "   random forest          67\n",
       "   regression lineaire    18\n",
       "1  pmc                     3\n",
       "   random forest           8\n",
       "   regression lineaire     2\n",
       "2  pmc                    16\n",
       "   random forest          42\n",
       "   regression lineaire    18\n",
       "3  pmc                     2\n",
       "   random forest           1\n",
       "   regression lineaire     0\n",
       "4  pmc                     8\n",
       "   random forest          15\n",
       "   regression lineaire     3\n",
       "5  pmc                     9\n",
       "   random forest          18\n",
       "   regression lineaire    16\n",
       "Name: Meilleur_modele, dtype: int64"
      ]
     },
     "execution_count": 139,
     "metadata": {},
     "output_type": "execute_result"
    }
   ],
   "source": [
    "cpts"
   ]
  },
  {
   "cell_type": "code",
   "execution_count": 145,
   "id": "87f5c63e-3c98-4189-a1ae-2bffe4751dd1",
   "metadata": {},
   "outputs": [
    {
     "data": {
      "image/png": "[encoded data removed]",
      "text/plain": [
       "<Figure size 640x480 with 1 Axes>"
      ]
     },
     "metadata": {},
     "output_type": "display_data"
    }
   ],
   "source": [
    "fig, ax = plt.subplots()\n",
    "\n",
    "ax.bar(cpts[0,].index, cpts[0,], color='navy', width=0.5)\n",
    "ax.bar(cpts[0,].index, cpts[1,], bottom=cpts[0,], color='g', width=0.5)\n",
    "ax.bar(cpts[0,].index, cpts[2,], bottom=cpts[0,]+cpts[1,], color='b', width=0.5)\n",
    "ax.bar(cpts[0,].index, cpts[3,], bottom=cpts[0,]+cpts[1,]+cpts[2,], color='lime', width=0.5)\n",
    "ax.bar(cpts[0,].index, cpts[4,], bottom=cpts[0,]+cpts[1,]+cpts[2,]+cpts[3,], color='pink', width=0.5)\n",
    "ax.bar(cpts[0,].index, cpts[5,], bottom=cpts[0,]+cpts[1,]+cpts[2,]+cpts[3,]+cpts[4,], color='r', width=0.5)\n",
    "ax.set_title(\"Décompte meilleur modèle\")\n",
    "ax.legend([0,1,2,3,4,5], loc=\"upper right\", title=\"Regroupement\")\n",
    "plt.show()"
   ]
  },
  {
   "cell_type": "markdown",
   "id": "dc6968fb-8bad-4e84-96e5-da14deda9872",
   "metadata": {},
   "source": [
    "On peut voir visuellement que le regroupement 4 est sous représenté dans la bande de la régression linéaire, alors que le regroupement 5 y est plutôt surreprésenté.  \n",
    "Comme nous avons vu dans le notebook 04, ces deux regroupements s'apparente grandement au regroupement 0 lorsque nous avions 3 regroupements.  \n",
    "L'algorithme k-means avait bien décelé cette nuance."
   ]
  },
  {
   "cell_type": "code",
   "execution_count": null,
   "id": "a21a608e-391a-4c32-a6fd-988ebb678485",
   "metadata": {},
   "outputs": [],
   "source": []
  }
 ],
 "metadata": {
  "kernelspec": {
   "display_name": "Python 3 (ipykernel)",
   "language": "python",
   "name": "python3"
  },
  "language_info": {
   "codemirror_mode": {
    "name": "ipython",
    "version": 3
   },
   "file_extension": ".py",
   "mimetype": "text/x-python",
   "name": "python",
   "nbconvert_exporter": "python",
   "pygments_lexer": "ipython3",
   "version": "3.8.6rc1"
  }
 },
 "nbformat": 4,
 "nbformat_minor": 5
}
