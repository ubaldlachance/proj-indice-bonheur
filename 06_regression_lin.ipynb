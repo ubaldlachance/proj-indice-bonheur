{
 "cells": [
  {
   "cell_type": "markdown",
   "id": "a8c3e0a9-8f12-44b0-b5cb-269feb2f7807",
   "metadata": {},
   "source": [
    "# Régression linéaire"
   ]
  },
  {
   "cell_type": "code",
   "execution_count": 1,
   "id": "00b5bd56-8a17-4090-bcb5-1544b3347135",
   "metadata": {},
   "outputs": [],
   "source": [
    "import numpy as np\n",
    "import pandas as pd\n",
    "from sklearn.linear_model import LinearRegression\n",
    "from sklearn.model_selection import train_test_split"
   ]
  },
  {
   "cell_type": "code",
   "execution_count": 2,
   "id": "89b41dcf-befc-4004-af3c-e7bcbd7dd0fe",
   "metadata": {},
   "outputs": [],
   "source": [
    "df = pd.read_csv(\"data/merged/global_cluster.csv\", sep=\";\") "
   ]
  },
  {
   "cell_type": "code",
   "execution_count": 3,
   "id": "639becee-4380-4bbc-92ec-6779545302d5",
   "metadata": {},
   "outputs": [
    {
     "data": {
      "text/html": [
       "<div>\n",
       "<style scoped>\n",
       "    .dataframe tbody tr th:only-of-type {\n",
       "        vertical-align: middle;\n",
       "    }\n",
       "\n",
       "    .dataframe tbody tr th {\n",
       "        vertical-align: top;\n",
       "    }\n",
       "\n",
       "    .dataframe thead th {\n",
       "        text-align: right;\n",
       "    }\n",
       "</style>\n",
       "<table border=\"1\" class=\"dataframe\">\n",
       "  <thead>\n",
       "    <tr style=\"text-align: right;\">\n",
       "      <th></th>\n",
       "      <th>annee</th>\n",
       "      <th>Country</th>\n",
       "      <th>Happiness Score</th>\n",
       "      <th>nativity</th>\n",
       "      <th>migration</th>\n",
       "      <th>health_expend</th>\n",
       "      <th>educ_expend</th>\n",
       "      <th>gdp</th>\n",
       "      <th>taxes</th>\n",
       "      <th>budget</th>\n",
       "      <th>milit</th>\n",
       "      <th>cluster_init</th>\n",
       "      <th>cluster3</th>\n",
       "      <th>cluster6</th>\n",
       "    </tr>\n",
       "  </thead>\n",
       "  <tbody>\n",
       "    <tr>\n",
       "      <th>0</th>\n",
       "      <td>2015</td>\n",
       "      <td>Switzerland</td>\n",
       "      <td>7.587</td>\n",
       "      <td>10.50</td>\n",
       "      <td>4.74</td>\n",
       "      <td>11.5</td>\n",
       "      <td>5.3</td>\n",
       "      <td>58100.0</td>\n",
       "      <td>33.6</td>\n",
       "      <td>0.3</td>\n",
       "      <td>0.64</td>\n",
       "      <td>1</td>\n",
       "      <td>1</td>\n",
       "      <td>1</td>\n",
       "    </tr>\n",
       "    <tr>\n",
       "      <th>1</th>\n",
       "      <td>2015</td>\n",
       "      <td>Iceland</td>\n",
       "      <td>7.561</td>\n",
       "      <td>13.91</td>\n",
       "      <td>4.43</td>\n",
       "      <td>9.1</td>\n",
       "      <td>7.4</td>\n",
       "      <td>43600.0</td>\n",
       "      <td>45.3</td>\n",
       "      <td>0.1</td>\n",
       "      <td>0.13</td>\n",
       "      <td>4</td>\n",
       "      <td>0</td>\n",
       "      <td>4</td>\n",
       "    </tr>\n",
       "    <tr>\n",
       "      <th>2</th>\n",
       "      <td>2015</td>\n",
       "      <td>Denmark</td>\n",
       "      <td>7.527</td>\n",
       "      <td>10.27</td>\n",
       "      <td>2.20</td>\n",
       "      <td>10.6</td>\n",
       "      <td>8.7</td>\n",
       "      <td>44300.0</td>\n",
       "      <td>55.5</td>\n",
       "      <td>-1.4</td>\n",
       "      <td>1.37</td>\n",
       "      <td>4</td>\n",
       "      <td>0</td>\n",
       "      <td>4</td>\n",
       "    </tr>\n",
       "    <tr>\n",
       "      <th>3</th>\n",
       "      <td>2015</td>\n",
       "      <td>Norway</td>\n",
       "      <td>7.522</td>\n",
       "      <td>12.14</td>\n",
       "      <td>7.25</td>\n",
       "      <td>9.6</td>\n",
       "      <td>6.6</td>\n",
       "      <td>66900.0</td>\n",
       "      <td>57.5</td>\n",
       "      <td>12.5</td>\n",
       "      <td>1.40</td>\n",
       "      <td>1</td>\n",
       "      <td>1</td>\n",
       "      <td>1</td>\n",
       "    </tr>\n",
       "    <tr>\n",
       "      <th>4</th>\n",
       "      <td>2015</td>\n",
       "      <td>Canada</td>\n",
       "      <td>7.427</td>\n",
       "      <td>10.28</td>\n",
       "      <td>5.66</td>\n",
       "      <td>10.9</td>\n",
       "      <td>5.3</td>\n",
       "      <td>44800.0</td>\n",
       "      <td>37.6</td>\n",
       "      <td>-2.3</td>\n",
       "      <td>1.00</td>\n",
       "      <td>4</td>\n",
       "      <td>0</td>\n",
       "      <td>4</td>\n",
       "    </tr>\n",
       "  </tbody>\n",
       "</table>\n",
       "</div>"
      ],
      "text/plain": [
       "   annee      Country  Happiness Score  nativity  migration  health_expend  \\\n",
       "0   2015  Switzerland            7.587     10.50       4.74           11.5   \n",
       "1   2015      Iceland            7.561     13.91       4.43            9.1   \n",
       "2   2015      Denmark            7.527     10.27       2.20           10.6   \n",
       "3   2015       Norway            7.522     12.14       7.25            9.6   \n",
       "4   2015       Canada            7.427     10.28       5.66           10.9   \n",
       "\n",
       "   educ_expend      gdp  taxes  budget  milit  cluster_init  cluster3  \\\n",
       "0          5.3  58100.0   33.6     0.3   0.64             1         1   \n",
       "1          7.4  43600.0   45.3     0.1   0.13             4         0   \n",
       "2          8.7  44300.0   55.5    -1.4   1.37             4         0   \n",
       "3          6.6  66900.0   57.5    12.5   1.40             1         1   \n",
       "4          5.3  44800.0   37.6    -2.3   1.00             4         0   \n",
       "\n",
       "   cluster6  \n",
       "0         1  \n",
       "1         4  \n",
       "2         4  \n",
       "3         1  \n",
       "4         4  "
      ]
     },
     "execution_count": 3,
     "metadata": {},
     "output_type": "execute_result"
    }
   ],
   "source": [
    "df.head()"
   ]
  },
  {
   "cell_type": "code",
   "execution_count": 4,
   "id": "47f05394-9111-42da-b1f5-139ed03ac8b5",
   "metadata": {},
   "outputs": [],
   "source": [
    "df30 = df.loc[df.cluster3==0]\n",
    "df31 = df.loc[df.cluster3==1]\n",
    "df32 = df.loc[df.cluster3==2]"
   ]
  },
  {
   "cell_type": "markdown",
   "id": "eaff4e28-c640-4c62-a4b0-11151d52a11c",
   "metadata": {},
   "source": [
    "Nombre de lignes par regroupement pour le trois regroupements"
   ]
  },
  {
   "cell_type": "code",
   "execution_count": 5,
   "id": "cb770032-b19f-482a-b0a0-ac17fbb917dc",
   "metadata": {},
   "outputs": [
    {
     "name": "stdout",
     "output_type": "stream",
     "text": [
      "376\n",
      "67\n",
      "895\n"
     ]
    }
   ],
   "source": [
    "print(df30.shape[0])\n",
    "print(df31.shape[0])\n",
    "print(df32.shape[0])"
   ]
  },
  {
   "cell_type": "code",
   "execution_count": 6,
   "id": "ca935ef8-75fa-45c8-90a5-7969760c2cae",
   "metadata": {},
   "outputs": [],
   "source": [
    "df60 = df.loc[df.cluster6==0]\n",
    "df61 = df.loc[df.cluster6==1]\n",
    "df62 = df.loc[df.cluster6==2]\n",
    "df63 = df.loc[df.cluster6==3]\n",
    "df64 = df.loc[df.cluster6==4]\n",
    "df65 = df.loc[df.cluster6==5]"
   ]
  },
  {
   "cell_type": "markdown",
   "id": "6d10c70c-59b2-4d4d-bc67-72521fc0512a",
   "metadata": {},
   "source": [
    "Nombre de lignes par regroupement pour le six regroupements"
   ]
  },
  {
   "cell_type": "code",
   "execution_count": 7,
   "id": "4d55917a-db9f-46f4-b41a-d29c43caefa7",
   "metadata": {},
   "outputs": [
    {
     "name": "stdout",
     "output_type": "stream",
     "text": [
      "526\n",
      "53\n",
      "360\n",
      "23\n",
      "181\n",
      "195\n"
     ]
    }
   ],
   "source": [
    "print(df60.shape[0])\n",
    "print(df61.shape[0])\n",
    "print(df62.shape[0])\n",
    "print(df63.shape[0])\n",
    "print(df64.shape[0])\n",
    "print(df65.shape[0])"
   ]
  },
  {
   "cell_type": "markdown",
   "id": "e7619381-f958-41b1-854f-d7b66e0912d1",
   "metadata": {},
   "source": [
    "Score (R2) de la régression linéaire tout cluster confondu."
   ]
  },
  {
   "cell_type": "code",
   "execution_count": 8,
   "id": "a7ab9e83-94a0-45b0-afcd-8af45a80d973",
   "metadata": {},
   "outputs": [
    {
     "data": {
      "text/plain": [
       "0.6415632205808868"
      ]
     },
     "execution_count": 8,
     "metadata": {},
     "output_type": "execute_result"
    }
   ],
   "source": [
    "reg = LinearRegression().fit(df[[\"nativity\", \"health_expend\", \"educ_expend\", \"taxes\", \"gdp\"]], df[\"Happiness Score\"])\n",
    "r2_global = reg.score(df[[\"nativity\", \"health_expend\", \"educ_expend\", \"taxes\", \"gdp\"]], df[\"Happiness Score\"])\n",
    "r2_global"
   ]
  },
  {
   "cell_type": "markdown",
   "id": "c26b0a30-2edb-4d94-b6cb-425b8fdf8dee",
   "metadata": {},
   "source": [
    "Score (R2) des régressions par regroupement avec trois regroupements"
   ]
  },
  {
   "cell_type": "code",
   "execution_count": 9,
   "id": "117b29c0-9522-4bd5-96f0-4467495ee395",
   "metadata": {},
   "outputs": [
    {
     "data": {
      "text/plain": [
       "0.6242734341908025"
      ]
     },
     "execution_count": 9,
     "metadata": {},
     "output_type": "execute_result"
    }
   ],
   "source": [
    "reg = LinearRegression().fit(df30[[\"nativity\", \"health_expend\", \"educ_expend\", \"taxes\", \"gdp\"]], df30[\"Happiness Score\"])\n",
    "r2_0 = reg.score(df30[[\"nativity\", \"health_expend\", \"educ_expend\", \"taxes\", \"gdp\"]], df30[\"Happiness Score\"])\n",
    "r2_0"
   ]
  },
  {
   "cell_type": "code",
   "execution_count": 10,
   "id": "69e7e9f4-8044-4f67-a0ed-42f17fc08bb6",
   "metadata": {},
   "outputs": [
    {
     "data": {
      "text/plain": [
       "0.8026384158194937"
      ]
     },
     "execution_count": 10,
     "metadata": {},
     "output_type": "execute_result"
    }
   ],
   "source": [
    "reg = LinearRegression().fit(df31[[\"nativity\", \"health_expend\", \"educ_expend\", \"taxes\", \"gdp\"]], df31[\"Happiness Score\"])\n",
    "r2_1 = reg.score(df31[[\"nativity\", \"health_expend\", \"educ_expend\", \"taxes\", \"gdp\"]], df31[\"Happiness Score\"])\n",
    "r2_1"
   ]
  },
  {
   "cell_type": "code",
   "execution_count": 11,
   "id": "75a9aa19-51a8-440a-9842-2381e40ca08a",
   "metadata": {},
   "outputs": [
    {
     "data": {
      "text/plain": [
       "0.3958058250629558"
      ]
     },
     "execution_count": 11,
     "metadata": {},
     "output_type": "execute_result"
    }
   ],
   "source": [
    "reg = LinearRegression().fit(df32[[\"nativity\", \"health_expend\", \"educ_expend\", \"taxes\", \"gdp\"]], df32[\"Happiness Score\"])\n",
    "r2_2 = reg.score(df32[[\"nativity\", \"health_expend\", \"educ_expend\", \"taxes\", \"gdp\"]], df32[\"Happiness Score\"])\n",
    "r2_2"
   ]
  },
  {
   "cell_type": "markdown",
   "id": "ba5b3b63-f600-40fd-9857-36cf9f84e2c9",
   "metadata": {},
   "source": [
    "Moyenne des R2 par regroupements (k=3), normalisé pour l'ensemble.  \n",
    "Le R2 global est plus élevé. (0.64 > 0.48)"
   ]
  },
  {
   "cell_type": "code",
   "execution_count": 12,
   "id": "efdb0feb-0939-4161-bf94-6671ba48b900",
   "metadata": {},
   "outputs": [
    {
     "data": {
      "text/plain": [
       "0.4803810153564972"
      ]
     },
     "execution_count": 12,
     "metadata": {},
     "output_type": "execute_result"
    }
   ],
   "source": [
    "(df30.shape[0] * r2_0 + df31.shape[0] * r2_1 + df32.shape[0] * r2_2) / (df.shape[0])"
   ]
  },
  {
   "cell_type": "markdown",
   "id": "96d85dff-9052-48a1-9058-647b763c0030",
   "metadata": {},
   "source": [
    "Score (R2) des régressions par regroupement avec six regroupements"
   ]
  },
  {
   "cell_type": "code",
   "execution_count": 13,
   "id": "1d46afe0-35b9-45d6-af2a-484037be02ed",
   "metadata": {},
   "outputs": [
    {
     "data": {
      "text/plain": [
       "0.3726452677637335"
      ]
     },
     "execution_count": 13,
     "metadata": {},
     "output_type": "execute_result"
    }
   ],
   "source": [
    "reg = LinearRegression().fit(df60[[\"nativity\", \"health_expend\", \"educ_expend\", \"taxes\", \"gdp\"]], df60[\"Happiness Score\"])\n",
    "r2_0 = reg.score(df60[[\"nativity\", \"health_expend\", \"educ_expend\", \"taxes\", \"gdp\"]], df60[\"Happiness Score\"])\n",
    "r2_0"
   ]
  },
  {
   "cell_type": "code",
   "execution_count": 14,
   "id": "0ccf27cb-3e38-4295-be62-f0346b71d3ce",
   "metadata": {},
   "outputs": [
    {
     "data": {
      "text/plain": [
       "0.8363710097737043"
      ]
     },
     "execution_count": 14,
     "metadata": {},
     "output_type": "execute_result"
    }
   ],
   "source": [
    "reg = LinearRegression().fit(df61[[\"nativity\", \"health_expend\", \"educ_expend\", \"taxes\", \"gdp\"]], df61[\"Happiness Score\"])\n",
    "r2_1 = reg.score(df61[[\"nativity\", \"health_expend\", \"educ_expend\", \"taxes\", \"gdp\"]], df61[\"Happiness Score\"])\n",
    "r2_1"
   ]
  },
  {
   "cell_type": "code",
   "execution_count": 15,
   "id": "2467a53e-7163-4d15-a4a5-8ce1f2cb5356",
   "metadata": {},
   "outputs": [
    {
     "data": {
      "text/plain": [
       "0.17736651769656753"
      ]
     },
     "execution_count": 15,
     "metadata": {},
     "output_type": "execute_result"
    }
   ],
   "source": [
    "reg = LinearRegression().fit(df62[[\"nativity\", \"health_expend\", \"educ_expend\", \"taxes\", \"gdp\"]], df62[\"Happiness Score\"])\n",
    "r2_2 = reg.score(df62[[\"nativity\", \"health_expend\", \"educ_expend\", \"taxes\", \"gdp\"]], df62[\"Happiness Score\"])\n",
    "r2_2"
   ]
  },
  {
   "cell_type": "code",
   "execution_count": 16,
   "id": "5a0b2b14-4717-4037-b270-b6a1e7e614c2",
   "metadata": {},
   "outputs": [
    {
     "data": {
      "text/plain": [
       "0.705769651228225"
      ]
     },
     "execution_count": 16,
     "metadata": {},
     "output_type": "execute_result"
    }
   ],
   "source": [
    "reg = LinearRegression().fit(df63[[\"nativity\", \"health_expend\", \"educ_expend\", \"taxes\", \"gdp\"]], df63[\"Happiness Score\"])\n",
    "r2_3 = reg.score(df63[[\"nativity\", \"health_expend\", \"educ_expend\", \"taxes\", \"gdp\"]], df63[\"Happiness Score\"])\n",
    "r2_3"
   ]
  },
  {
   "cell_type": "code",
   "execution_count": 17,
   "id": "a1c049b5-12af-4b97-a5c4-f4d30e3d49fd",
   "metadata": {},
   "outputs": [
    {
     "data": {
      "text/plain": [
       "0.5920668519135371"
      ]
     },
     "execution_count": 17,
     "metadata": {},
     "output_type": "execute_result"
    }
   ],
   "source": [
    "reg = LinearRegression().fit(df64[[\"nativity\", \"health_expend\", \"educ_expend\", \"taxes\", \"gdp\"]], df64[\"Happiness Score\"])\n",
    "r2_4 = reg.score(df64[[\"nativity\", \"health_expend\", \"educ_expend\", \"taxes\", \"gdp\"]], df64[\"Happiness Score\"])\n",
    "r2_4"
   ]
  },
  {
   "cell_type": "code",
   "execution_count": 18,
   "id": "cf92c9f7-57b9-452b-a3f5-e4c30dd0ebfe",
   "metadata": {},
   "outputs": [
    {
     "data": {
      "text/plain": [
       "0.3055890903480174"
      ]
     },
     "execution_count": 18,
     "metadata": {},
     "output_type": "execute_result"
    }
   ],
   "source": [
    "reg = LinearRegression().fit(df65[[\"nativity\", \"health_expend\", \"educ_expend\", \"taxes\", \"gdp\"]], df65[\"Happiness Score\"])\n",
    "r2_5 = reg.score(df65[[\"nativity\", \"health_expend\", \"educ_expend\", \"taxes\", \"gdp\"]], df65[\"Happiness Score\"])\n",
    "r2_5"
   ]
  },
  {
   "cell_type": "markdown",
   "id": "7db71f75-0ab8-4844-9fa9-d4af0c20a1b1",
   "metadata": {},
   "source": [
    "Moyenne des R2 par regroupements (k=6), normalisé pour l'ensemble.  \n",
    "Le R2 global est plus élevé. (0.64 > 0.36)"
   ]
  },
  {
   "cell_type": "code",
   "execution_count": 19,
   "id": "43070420-58bf-4554-902e-77c0bdc423e3",
   "metadata": {},
   "outputs": [
    {
     "data": {
      "text/plain": [
       "0.3641088905268739"
      ]
     },
     "execution_count": 19,
     "metadata": {},
     "output_type": "execute_result"
    }
   ],
   "source": [
    "(df60.shape[0] * r2_0 + df61.shape[0] * r2_1 + df62.shape[0] * r2_2 + df63.shape[0] * r2_3 + df64.shape[0] * r2_4 + df65.shape[0] * r2_5)  / (df.shape[0])"
   ]
  },
  {
   "cell_type": "markdown",
   "id": "13cb0330-faaa-4596-b6bf-34b533295d68",
   "metadata": {},
   "source": [
    "## Séparation des données en ensembles d'entrainement et de test"
   ]
  },
  {
   "cell_type": "code",
   "execution_count": 20,
   "id": "af3f3765-3f4a-484b-8057-af684e6a53d0",
   "metadata": {},
   "outputs": [],
   "source": [
    "df_train, df_test = train_test_split(df, test_size=0.2, random_state=84)"
   ]
  },
  {
   "cell_type": "markdown",
   "id": "59706cd0-b599-4f87-9179-07a4854a7bf0",
   "metadata": {},
   "source": [
    "Suite à ces résultats, nous allons utiliser le dataframe au complet et entraîner un seul modèle de régression linéaire."
   ]
  },
  {
   "cell_type": "markdown",
   "id": "13dbe1af-36bf-4552-8ddf-348a5ab2e272",
   "metadata": {},
   "source": [
    "## Entraînement et test du modèle"
   ]
  },
  {
   "cell_type": "code",
   "execution_count": 21,
   "id": "00ee87f2-2c4a-4570-a395-a9fecc3f3a74",
   "metadata": {},
   "outputs": [
    {
     "name": "stdout",
     "output_type": "stream",
     "text": [
      "R2 pour ensemble d'entrainement 0.6462801950122714\n",
      "R2 pour ensemble de test 0.6197007405897785\n"
     ]
    }
   ],
   "source": [
    "reg = LinearRegression().fit(df_train[[\"nativity\", \"health_expend\", \"educ_expend\", \"taxes\", \"gdp\"]], df_train[\"Happiness Score\"])\n",
    "r2_t = reg.score(df_train[[\"nativity\", \"health_expend\", \"educ_expend\", \"taxes\", \"gdp\"]], df_train[\"Happiness Score\"])\n",
    "print(f\"R2 pour ensemble d'entrainement {r2_t}\")\n",
    "\n",
    "test_results = reg.predict(df_test[[\"nativity\", \"health_expend\", \"educ_expend\", \"taxes\", \"gdp\"]])\n",
    "\n",
    "r2_t = reg.score(df_test[[\"nativity\", \"health_expend\", \"educ_expend\", \"taxes\", \"gdp\"]], df_test[\"Happiness Score\"])\n",
    "print(f'R2 pour ensemble de test {r2_t}')\n",
    "df_test['predicted_score'] = test_results"
   ]
  },
  {
   "cell_type": "code",
   "execution_count": 22,
   "id": "fc2e1033-7d8f-4443-9138-816d30fe2371",
   "metadata": {},
   "outputs": [
    {
     "data": {
      "text/html": [
       "<div>\n",
       "<style scoped>\n",
       "    .dataframe tbody tr th:only-of-type {\n",
       "        vertical-align: middle;\n",
       "    }\n",
       "\n",
       "    .dataframe tbody tr th {\n",
       "        vertical-align: top;\n",
       "    }\n",
       "\n",
       "    .dataframe thead th {\n",
       "        text-align: right;\n",
       "    }\n",
       "</style>\n",
       "<table border=\"1\" class=\"dataframe\">\n",
       "  <thead>\n",
       "    <tr style=\"text-align: right;\">\n",
       "      <th></th>\n",
       "      <th>annee</th>\n",
       "      <th>Country</th>\n",
       "      <th>Happiness Score</th>\n",
       "      <th>nativity</th>\n",
       "      <th>migration</th>\n",
       "      <th>health_expend</th>\n",
       "      <th>educ_expend</th>\n",
       "      <th>gdp</th>\n",
       "      <th>taxes</th>\n",
       "      <th>budget</th>\n",
       "      <th>milit</th>\n",
       "      <th>cluster_init</th>\n",
       "      <th>cluster3</th>\n",
       "      <th>cluster6</th>\n",
       "      <th>predicted_score</th>\n",
       "    </tr>\n",
       "  </thead>\n",
       "  <tbody>\n",
       "    <tr>\n",
       "      <th>647</th>\n",
       "      <td>2019</td>\n",
       "      <td>Bahrain</td>\n",
       "      <td>6.1990</td>\n",
       "      <td>13.10</td>\n",
       "      <td>11.60</td>\n",
       "      <td>4.9</td>\n",
       "      <td>2.3</td>\n",
       "      <td>49000.0</td>\n",
       "      <td>16.60</td>\n",
       "      <td>-10.1</td>\n",
       "      <td>3.600000</td>\n",
       "      <td>4</td>\n",
       "      <td>0</td>\n",
       "      <td>4</td>\n",
       "      <td>6.102281</td>\n",
       "    </tr>\n",
       "    <tr>\n",
       "      <th>1272</th>\n",
       "      <td>2023</td>\n",
       "      <td>Russia</td>\n",
       "      <td>5.6610</td>\n",
       "      <td>9.22</td>\n",
       "      <td>1.70</td>\n",
       "      <td>7.6</td>\n",
       "      <td>3.7</td>\n",
       "      <td>28000.0</td>\n",
       "      <td>10.83</td>\n",
       "      <td>-1.4</td>\n",
       "      <td>5.400000</td>\n",
       "      <td>5</td>\n",
       "      <td>0</td>\n",
       "      <td>5</td>\n",
       "      <td>5.917161</td>\n",
       "    </tr>\n",
       "    <tr>\n",
       "      <th>880</th>\n",
       "      <td>2020</td>\n",
       "      <td>Jordan</td>\n",
       "      <td>4.6334</td>\n",
       "      <td>23.00</td>\n",
       "      <td>-11.30</td>\n",
       "      <td>8.1</td>\n",
       "      <td>3.1</td>\n",
       "      <td>3291.0</td>\n",
       "      <td>23.60</td>\n",
       "      <td>-5.1</td>\n",
       "      <td>4.700000</td>\n",
       "      <td>0</td>\n",
       "      <td>2</td>\n",
       "      <td>2</td>\n",
       "      <td>4.811708</td>\n",
       "    </tr>\n",
       "    <tr>\n",
       "      <th>957</th>\n",
       "      <td>2021</td>\n",
       "      <td>Poland</td>\n",
       "      <td>6.1660</td>\n",
       "      <td>8.69</td>\n",
       "      <td>-0.33</td>\n",
       "      <td>6.3</td>\n",
       "      <td>4.6</td>\n",
       "      <td>32200.0</td>\n",
       "      <td>39.50</td>\n",
       "      <td>-1.7</td>\n",
       "      <td>2.200000</td>\n",
       "      <td>5</td>\n",
       "      <td>0</td>\n",
       "      <td>5</td>\n",
       "      <td>6.185825</td>\n",
       "    </tr>\n",
       "    <tr>\n",
       "      <th>1209</th>\n",
       "      <td>2023</td>\n",
       "      <td>Norway</td>\n",
       "      <td>7.3150</td>\n",
       "      <td>11.89</td>\n",
       "      <td>3.89</td>\n",
       "      <td>11.4</td>\n",
       "      <td>5.9</td>\n",
       "      <td>65700.0</td>\n",
       "      <td>21.09</td>\n",
       "      <td>4.4</td>\n",
       "      <td>1.740000</td>\n",
       "      <td>1</td>\n",
       "      <td>1</td>\n",
       "      <td>1</td>\n",
       "      <td>7.062323</td>\n",
       "    </tr>\n",
       "    <tr>\n",
       "      <th>...</th>\n",
       "      <td>...</td>\n",
       "      <td>...</td>\n",
       "      <td>...</td>\n",
       "      <td>...</td>\n",
       "      <td>...</td>\n",
       "      <td>...</td>\n",
       "      <td>...</td>\n",
       "      <td>...</td>\n",
       "      <td>...</td>\n",
       "      <td>...</td>\n",
       "      <td>...</td>\n",
       "      <td>...</td>\n",
       "      <td>...</td>\n",
       "      <td>...</td>\n",
       "      <td>...</td>\n",
       "    </tr>\n",
       "    <tr>\n",
       "      <th>385</th>\n",
       "      <td>2017</td>\n",
       "      <td>Venezuela</td>\n",
       "      <td>5.2500</td>\n",
       "      <td>18.80</td>\n",
       "      <td>-1.20</td>\n",
       "      <td>5.3</td>\n",
       "      <td>6.9</td>\n",
       "      <td>14000.0</td>\n",
       "      <td>34.40</td>\n",
       "      <td>-48.0</td>\n",
       "      <td>1.000000</td>\n",
       "      <td>2</td>\n",
       "      <td>2</td>\n",
       "      <td>2</td>\n",
       "      <td>5.459064</td>\n",
       "    </tr>\n",
       "    <tr>\n",
       "      <th>261</th>\n",
       "      <td>2016</td>\n",
       "      <td>Namibia</td>\n",
       "      <td>4.5740</td>\n",
       "      <td>27.90</td>\n",
       "      <td>0.00</td>\n",
       "      <td>8.9</td>\n",
       "      <td>8.3</td>\n",
       "      <td>11400.0</td>\n",
       "      <td>35.50</td>\n",
       "      <td>-5.5</td>\n",
       "      <td>4.200000</td>\n",
       "      <td>2</td>\n",
       "      <td>2</td>\n",
       "      <td>0</td>\n",
       "      <td>5.273118</td>\n",
       "    </tr>\n",
       "    <tr>\n",
       "      <th>485</th>\n",
       "      <td>2018</td>\n",
       "      <td>Brazil</td>\n",
       "      <td>6.4190</td>\n",
       "      <td>13.90</td>\n",
       "      <td>-0.10</td>\n",
       "      <td>8.3</td>\n",
       "      <td>5.9</td>\n",
       "      <td>15600.0</td>\n",
       "      <td>35.70</td>\n",
       "      <td>-1.1</td>\n",
       "      <td>1.320000</td>\n",
       "      <td>2</td>\n",
       "      <td>2</td>\n",
       "      <td>2</td>\n",
       "      <td>5.728380</td>\n",
       "    </tr>\n",
       "    <tr>\n",
       "      <th>234</th>\n",
       "      <td>2016</td>\n",
       "      <td>Bhutan</td>\n",
       "      <td>5.1960</td>\n",
       "      <td>17.50</td>\n",
       "      <td>0.00</td>\n",
       "      <td>3.6</td>\n",
       "      <td>5.9</td>\n",
       "      <td>8200.0</td>\n",
       "      <td>27.50</td>\n",
       "      <td>-3.8</td>\n",
       "      <td>2.152823</td>\n",
       "      <td>0</td>\n",
       "      <td>2</td>\n",
       "      <td>0</td>\n",
       "      <td>5.206978</td>\n",
       "    </tr>\n",
       "    <tr>\n",
       "      <th>276</th>\n",
       "      <td>2016</td>\n",
       "      <td>Senegal</td>\n",
       "      <td>4.2190</td>\n",
       "      <td>34.00</td>\n",
       "      <td>-1.50</td>\n",
       "      <td>4.7</td>\n",
       "      <td>5.6</td>\n",
       "      <td>2500.0</td>\n",
       "      <td>25.10</td>\n",
       "      <td>-4.8</td>\n",
       "      <td>1.890000</td>\n",
       "      <td>0</td>\n",
       "      <td>2</td>\n",
       "      <td>0</td>\n",
       "      <td>4.430199</td>\n",
       "    </tr>\n",
       "  </tbody>\n",
       "</table>\n",
       "<p>268 rows × 15 columns</p>\n",
       "</div>"
      ],
      "text/plain": [
       "      annee    Country  Happiness Score  nativity  migration  health_expend  \\\n",
       "647    2019    Bahrain           6.1990     13.10      11.60            4.9   \n",
       "1272   2023     Russia           5.6610      9.22       1.70            7.6   \n",
       "880    2020     Jordan           4.6334     23.00     -11.30            8.1   \n",
       "957    2021     Poland           6.1660      8.69      -0.33            6.3   \n",
       "1209   2023     Norway           7.3150     11.89       3.89           11.4   \n",
       "...     ...        ...              ...       ...        ...            ...   \n",
       "385    2017  Venezuela           5.2500     18.80      -1.20            5.3   \n",
       "261    2016    Namibia           4.5740     27.90       0.00            8.9   \n",
       "485    2018     Brazil           6.4190     13.90      -0.10            8.3   \n",
       "234    2016     Bhutan           5.1960     17.50       0.00            3.6   \n",
       "276    2016    Senegal           4.2190     34.00      -1.50            4.7   \n",
       "\n",
       "      educ_expend      gdp  taxes  budget     milit  cluster_init  cluster3  \\\n",
       "647           2.3  49000.0  16.60   -10.1  3.600000             4         0   \n",
       "1272          3.7  28000.0  10.83    -1.4  5.400000             5         0   \n",
       "880           3.1   3291.0  23.60    -5.1  4.700000             0         2   \n",
       "957           4.6  32200.0  39.50    -1.7  2.200000             5         0   \n",
       "1209          5.9  65700.0  21.09     4.4  1.740000             1         1   \n",
       "...           ...      ...    ...     ...       ...           ...       ...   \n",
       "385           6.9  14000.0  34.40   -48.0  1.000000             2         2   \n",
       "261           8.3  11400.0  35.50    -5.5  4.200000             2         2   \n",
       "485           5.9  15600.0  35.70    -1.1  1.320000             2         2   \n",
       "234           5.9   8200.0  27.50    -3.8  2.152823             0         2   \n",
       "276           5.6   2500.0  25.10    -4.8  1.890000             0         2   \n",
       "\n",
       "      cluster6  predicted_score  \n",
       "647          4         6.102281  \n",
       "1272         5         5.917161  \n",
       "880          2         4.811708  \n",
       "957          5         6.185825  \n",
       "1209         1         7.062323  \n",
       "...        ...              ...  \n",
       "385          2         5.459064  \n",
       "261          0         5.273118  \n",
       "485          2         5.728380  \n",
       "234          0         5.206978  \n",
       "276          0         4.430199  \n",
       "\n",
       "[268 rows x 15 columns]"
      ]
     },
     "execution_count": 22,
     "metadata": {},
     "output_type": "execute_result"
    }
   ],
   "source": [
    "df_test"
   ]
  },
  {
   "cell_type": "code",
   "execution_count": 23,
   "id": "a259ee76-0901-438e-a6db-c9c23a282277",
   "metadata": {},
   "outputs": [],
   "source": [
    "# Sauvegarde du data frame des résultats de tests\n",
    "df_test.to_csv(\"data/resultats/test_reg_lin.csv\", sep=\";\", index=False) "
   ]
  },
  {
   "cell_type": "markdown",
   "id": "ccb9ca8e-dbb7-446a-849c-e0ba6238f99f",
   "metadata": {},
   "source": [
    "### Quelque tests avec des données fictives"
   ]
  },
  {
   "cell_type": "code",
   "execution_count": 27,
   "id": "4b853520-e559-4ab6-a0c5-6956de438f63",
   "metadata": {},
   "outputs": [
    {
     "data": {
      "text/html": [
       "<div>\n",
       "<style scoped>\n",
       "    .dataframe tbody tr th:only-of-type {\n",
       "        vertical-align: middle;\n",
       "    }\n",
       "\n",
       "    .dataframe tbody tr th {\n",
       "        vertical-align: top;\n",
       "    }\n",
       "\n",
       "    .dataframe thead th {\n",
       "        text-align: right;\n",
       "    }\n",
       "</style>\n",
       "<table border=\"1\" class=\"dataframe\">\n",
       "  <thead>\n",
       "    <tr style=\"text-align: right;\">\n",
       "      <th></th>\n",
       "      <th>annee</th>\n",
       "      <th>Country</th>\n",
       "      <th>Happiness Score</th>\n",
       "      <th>nativity</th>\n",
       "      <th>migration</th>\n",
       "      <th>health_expend</th>\n",
       "      <th>educ_expend</th>\n",
       "      <th>gdp</th>\n",
       "      <th>taxes</th>\n",
       "      <th>budget</th>\n",
       "      <th>milit</th>\n",
       "      <th>cluster_init</th>\n",
       "      <th>cluster3</th>\n",
       "      <th>cluster6</th>\n",
       "      <th>predicted_score</th>\n",
       "    </tr>\n",
       "  </thead>\n",
       "  <tbody>\n",
       "    <tr>\n",
       "      <th>1218</th>\n",
       "      <td>2023</td>\n",
       "      <td>Germany</td>\n",
       "      <td>6.892</td>\n",
       "      <td>9.02</td>\n",
       "      <td>1.78</td>\n",
       "      <td>12.8</td>\n",
       "      <td>4.7</td>\n",
       "      <td>53200.0</td>\n",
       "      <td>10.55</td>\n",
       "      <td>1.3</td>\n",
       "      <td>1.20</td>\n",
       "      <td>4</td>\n",
       "      <td>0</td>\n",
       "      <td>4</td>\n",
       "      <td>6.788183</td>\n",
       "    </tr>\n",
       "    <tr>\n",
       "      <th>1221</th>\n",
       "      <td>2023</td>\n",
       "      <td>United Kingdom</td>\n",
       "      <td>6.796</td>\n",
       "      <td>10.80</td>\n",
       "      <td>3.23</td>\n",
       "      <td>12.0</td>\n",
       "      <td>5.5</td>\n",
       "      <td>45000.0</td>\n",
       "      <td>24.73</td>\n",
       "      <td>-1.9</td>\n",
       "      <td>2.08</td>\n",
       "      <td>4</td>\n",
       "      <td>0</td>\n",
       "      <td>4</td>\n",
       "      <td>6.612917</td>\n",
       "    </tr>\n",
       "    <tr>\n",
       "      <th>1217</th>\n",
       "      <td>2023</td>\n",
       "      <td>United States</td>\n",
       "      <td>6.894</td>\n",
       "      <td>12.21</td>\n",
       "      <td>3.01</td>\n",
       "      <td>18.8</td>\n",
       "      <td>6.1</td>\n",
       "      <td>63700.0</td>\n",
       "      <td>9.86</td>\n",
       "      <td>-3.4</td>\n",
       "      <td>3.50</td>\n",
       "      <td>1</td>\n",
       "      <td>0</td>\n",
       "      <td>1</td>\n",
       "      <td>7.226563</td>\n",
       "    </tr>\n",
       "    <tr>\n",
       "      <th>1210</th>\n",
       "      <td>2023</td>\n",
       "      <td>Switzerland</td>\n",
       "      <td>7.240</td>\n",
       "      <td>10.30</td>\n",
       "      <td>4.50</td>\n",
       "      <td>11.8</td>\n",
       "      <td>5.2</td>\n",
       "      <td>71000.0</td>\n",
       "      <td>9.37</td>\n",
       "      <td>1.1</td>\n",
       "      <td>0.70</td>\n",
       "      <td>1</td>\n",
       "      <td>1</td>\n",
       "      <td>1</td>\n",
       "      <td>7.164121</td>\n",
       "    </tr>\n",
       "    <tr>\n",
       "      <th>1326</th>\n",
       "      <td>2023</td>\n",
       "      <td>India</td>\n",
       "      <td>4.036</td>\n",
       "      <td>16.53</td>\n",
       "      <td>0.12</td>\n",
       "      <td>3.0</td>\n",
       "      <td>4.5</td>\n",
       "      <td>6600.0</td>\n",
       "      <td>12.02</td>\n",
       "      <td>-3.5</td>\n",
       "      <td>2.50</td>\n",
       "      <td>0</td>\n",
       "      <td>2</td>\n",
       "      <td>0</td>\n",
       "      <td>5.015253</td>\n",
       "    </tr>\n",
       "  </tbody>\n",
       "</table>\n",
       "</div>"
      ],
      "text/plain": [
       "      annee         Country  Happiness Score  nativity  migration  \\\n",
       "1218   2023         Germany            6.892      9.02       1.78   \n",
       "1221   2023  United Kingdom            6.796     10.80       3.23   \n",
       "1217   2023   United States            6.894     12.21       3.01   \n",
       "1210   2023     Switzerland            7.240     10.30       4.50   \n",
       "1326   2023           India            4.036     16.53       0.12   \n",
       "\n",
       "      health_expend  educ_expend      gdp  taxes  budget  milit  cluster_init  \\\n",
       "1218           12.8          4.7  53200.0  10.55     1.3   1.20             4   \n",
       "1221           12.0          5.5  45000.0  24.73    -1.9   2.08             4   \n",
       "1217           18.8          6.1  63700.0   9.86    -3.4   3.50             1   \n",
       "1210           11.8          5.2  71000.0   9.37     1.1   0.70             1   \n",
       "1326            3.0          4.5   6600.0  12.02    -3.5   2.50             0   \n",
       "\n",
       "      cluster3  cluster6  predicted_score  \n",
       "1218         0         4         6.788183  \n",
       "1221         0         4         6.612917  \n",
       "1217         0         1         7.226563  \n",
       "1210         1         1         7.164121  \n",
       "1326         2         0         5.015253  "
      ]
     },
     "execution_count": 27,
     "metadata": {},
     "output_type": "execute_result"
    }
   ],
   "source": [
    "# Pour récupérer des valeurs de départ plausible\n",
    "df_test.loc[df_test.annee==2023].sample(5, random_state=93)"
   ]
  },
  {
   "cell_type": "code",
   "execution_count": 28,
   "id": "acc5bfae-49d4-42db-ba02-15be9aa8690b",
   "metadata": {},
   "outputs": [
    {
     "data": {
      "text/html": [
       "<div>\n",
       "<style scoped>\n",
       "    .dataframe tbody tr th:only-of-type {\n",
       "        vertical-align: middle;\n",
       "    }\n",
       "\n",
       "    .dataframe tbody tr th {\n",
       "        vertical-align: top;\n",
       "    }\n",
       "\n",
       "    .dataframe thead th {\n",
       "        text-align: right;\n",
       "    }\n",
       "</style>\n",
       "<table border=\"1\" class=\"dataframe\">\n",
       "  <thead>\n",
       "    <tr style=\"text-align: right;\">\n",
       "      <th></th>\n",
       "      <th>nativity</th>\n",
       "      <th>health_expend</th>\n",
       "      <th>educ_expend</th>\n",
       "      <th>taxes</th>\n",
       "      <th>gdp</th>\n",
       "    </tr>\n",
       "  </thead>\n",
       "  <tbody>\n",
       "    <tr>\n",
       "      <th>0</th>\n",
       "      <td>13.3</td>\n",
       "      <td>6.6</td>\n",
       "      <td>3.30</td>\n",
       "      <td>16.9</td>\n",
       "      <td>14400</td>\n",
       "    </tr>\n",
       "    <tr>\n",
       "      <th>1</th>\n",
       "      <td>19.5</td>\n",
       "      <td>6.7</td>\n",
       "      <td>9.20</td>\n",
       "      <td>41.0</td>\n",
       "      <td>8200</td>\n",
       "    </tr>\n",
       "    <tr>\n",
       "      <th>2</th>\n",
       "      <td>24.2</td>\n",
       "      <td>8.8</td>\n",
       "      <td>10.10</td>\n",
       "      <td>32.0</td>\n",
       "      <td>9100</td>\n",
       "    </tr>\n",
       "    <tr>\n",
       "      <th>3</th>\n",
       "      <td>23.0</td>\n",
       "      <td>5.2</td>\n",
       "      <td>4.05</td>\n",
       "      <td>13.8</td>\n",
       "      <td>8300</td>\n",
       "    </tr>\n",
       "    <tr>\n",
       "      <th>4</th>\n",
       "      <td>7.9</td>\n",
       "      <td>9.1</td>\n",
       "      <td>4.10</td>\n",
       "      <td>14.1</td>\n",
       "      <td>42010</td>\n",
       "    </tr>\n",
       "  </tbody>\n",
       "</table>\n",
       "</div>"
      ],
      "text/plain": [
       "   nativity  health_expend  educ_expend  taxes    gdp\n",
       "0      13.3            6.6         3.30   16.9  14400\n",
       "1      19.5            6.7         9.20   41.0   8200\n",
       "2      24.2            8.8        10.10   32.0   9100\n",
       "3      23.0            5.2         4.05   13.8   8300\n",
       "4       7.9            9.1         4.10   14.1  42010"
      ]
     },
     "execution_count": 28,
     "metadata": {},
     "output_type": "execute_result"
    }
   ],
   "source": [
    "# Ensemble de test, cinq lignes de données fictives\n",
    "df_test5 = pd.DataFrame([[13.3, 6.6, 3.3, 16.9, 14400],\n",
    "                         [19.5, 6.7, 9.2, 41, 8200],                         \n",
    "                         [24.2, 8.8, 10.1, 32, 9100],\n",
    "                         [23, 5.2, 4.05, 13.8, 8300],\n",
    "                         [7.9, 9.1, 4.1, 14.1, 42010]], \n",
    "                        columns=[\"nativity\", \"health_expend\", \"educ_expend\", \"taxes\", \"gdp\"])\n",
    "df_test5"
   ]
  },
  {
   "cell_type": "markdown",
   "id": "dcf2a72d-2943-4501-acbe-faee7065312e",
   "metadata": {},
   "source": [
    "Voici les indices de bonheurs prédits pour les données fictive ci-dessus."
   ]
  },
  {
   "cell_type": "code",
   "execution_count": 29,
   "id": "3abe6194-5df1-4887-bb0f-c74fe60f35f0",
   "metadata": {},
   "outputs": [
    {
     "data": {
      "text/plain": [
       "array([5.39162182, 5.53638813, 5.47342865, 4.85602985, 6.40364188])"
      ]
     },
     "execution_count": 29,
     "metadata": {},
     "output_type": "execute_result"
    }
   ],
   "source": [
    "test5_results = reg.predict(df_test5[[\"nativity\", \"health_expend\", \"educ_expend\", \"taxes\", \"gdp\"]])\n",
    "test5_results"
   ]
  },
  {
   "cell_type": "code",
   "execution_count": null,
   "id": "8f5c0a5c-423e-47c2-a267-e33d76bb348b",
   "metadata": {},
   "outputs": [],
   "source": []
  }
 ],
 "metadata": {
  "kernelspec": {
   "display_name": "Python 3 (ipykernel)",
   "language": "python",
   "name": "python3"
  },
  "language_info": {
   "codemirror_mode": {
    "name": "ipython",
    "version": 3
   },
   "file_extension": ".py",
   "mimetype": "text/x-python",
   "name": "python",
   "nbconvert_exporter": "python",
   "pygments_lexer": "ipython3",
   "version": "3.8.6rc1"
  }
 },
 "nbformat": 4,
 "nbformat_minor": 5
}
